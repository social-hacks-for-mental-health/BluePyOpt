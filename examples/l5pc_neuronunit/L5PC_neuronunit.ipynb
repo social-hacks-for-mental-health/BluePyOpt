{
 "cells": [
  {
   "cell_type": "markdown",
   "metadata": {},
   "source": [
    "# Optimisation of a Neocortical Layer 5 Pyramidal Cell"
   ]
  },
  {
   "cell_type": "markdown",
   "metadata": {},
   "source": [
    "This notebook shows you how to optimise the maximal conductance of Neocortical Layer 5 Pyramidal Cell as used in Markram et al. 2015.\n",
    "\n",
    "Author of this script: Werner Van Geit @ Blue Brain Project\n",
    "\n",
    "Choice of parameters, protocols and other settings was done by Etay Hay @ HUJI\n",
    "\n",
    "What's described here is a more advanced use of BluePyOpt. We suggest to first go through the introductary example here: https://github.com/BlueBrain/BluePyOpt/blob/master/examples/simplecell/simplecell.ipynb\n",
    "\n",
    "**If you use the methods in this notebook, we ask you to cite the following publications when publishing your research:**\n",
    "\n",
    "Van Geit, W., M. Gevaert, G. Chindemi, C. Rössert, J.-D. Courcol, E. Muller, F. Schürmann, I. Segev, and H. Markram (2016, March). BluePyOpt: Leveraging open source software and cloud infrastructure to optimise model parameters in neuroscience. ArXiv e-prints.\n",
    "http://arxiv.org/abs/1603.00500\n",
    "\n",
    "Markram, H., E. Muller, S. Ramaswamy, M. W. Reimann, M. Abdellah, C. A. Sanchez, A. Ailamaki, L. Alonso-Nanclares, N. Antille, S. Arsever, et al. (2015). Reconstruction and simulation of neocortical microcircuitry. Cell 163(2), 456–492.\n",
    "http://www.cell.com/abstract/S0092-8674%2815%2901191-5\n",
    "\n",
    "Some of the modules loaded in this script are located in the L5PC example folder: https://github.com/BlueBrain/BluePyOpt/tree/master/examples/l5pc "
   ]
  },
  {
   "cell_type": "markdown",
   "metadata": {},
   "source": [
    "We first load the bluepyopt python module, the ephys submodule and some helper functionality"
   ]
  },
  {
   "cell_type": "code",
   "execution_count": 1,
   "metadata": {},
   "outputs": [],
   "source": [
    "from __future__ import print_function\n",
    "from numba import jit\n",
    "import numpy as np\n",
    "@jit\n",
    "def linearInterpolate(tStart, tEnd, vStart, vEnd, tTarget):\n",
    "    \"\"\"Perform linear interpolation.\"\"\"\n",
    "    tRange = float(tEnd - tStart)\n",
    "    tFractionAlong = (tTarget - tStart)/tRange\n",
    "    vRange = vEnd - vStart\n",
    "    vTarget = vRange*tFractionAlong + vStart\n",
    "    return vTarget\n",
    "\n",
    "@jit\n",
    "def inner_core(fPots,vIndex,vTime,fTime,duration,vTimes,vPots,fDt):\n",
    "    while fTime <= duration:\n",
    "    #for fTime in iterator:\n",
    "        # If v and f times are exact, no interpolation needed\n",
    "        if fTime == vTime:\n",
    "            fPots.append(vPots[vIndex])\n",
    "\n",
    "        # Interpolate between the two nearest vdt times\n",
    "        else:\n",
    "\n",
    "            # Increment vdt time until it surpases the fdt time\n",
    "            while fTime > vTime and vIndex < len(vTimes):\n",
    "                vIndex += 1\n",
    "                vTime = vTimes[vIndex]\n",
    "\n",
    "            # Once surpassed, use the new vdt time and t-1\n",
    "            # for interpolation\n",
    "            vIndexMinus1 = max(0, vIndex-1)\n",
    "            vTimeMinus1 = vTimes[vIndexMinus1]\n",
    "            \n",
    "            #def linearInterpolate(tStart, tEnd, vStart, vEnd, tTarget):\n",
    "            tStart, tEnd, vStart, vEnd, tTarget = vTimeMinus1, vTime,vPots[vIndexMinus1],vPots[vIndex], fTime\n",
    "            tRange = float(tEnd - tStart)\n",
    "            tFractionAlong = (tTarget - tStart)/tRange\n",
    "            vRange = vEnd - vStart\n",
    "            fPot = vRange*tFractionAlong + vStart\n",
    "\n",
    "            \n",
    "            #fPot = linearInterpolate(vTimeMinus1, vTime,\n",
    "            #                              vPots[vIndexMinus1],\n",
    "            #                              vPots[vIndex], fTime)\n",
    "\n",
    "            fPots.append(fPot)\n",
    "            \n",
    "        # Go to the next fdt time step\n",
    "        fTime += fDt\n",
    "    return fPots\n",
    "\n",
    "\n",
    "@jit\n",
    "def get_variable_step_analog_signal(desired_fixedTimeStep,varied_Pots,varied_Times):#,iterator):\n",
    "    \"\"\"Convert variable dt array values to fixed dt array.\n",
    "\n",
    "    Uses linear interpolation.\n",
    "    \"\"\"\n",
    "    # Fixed dt potential\n",
    "    fPots = []\n",
    "    fDt = desired_fixedTimeStep\n",
    "    # Variable dt potential\n",
    "    vPots = varied_Pots\n",
    "    #self.vVector.to_python()\n",
    "    # Variable dt times\n",
    "    vTimes = varied_Times#self.tVector.to_python()\n",
    "    duration = vTimes[len(vTimes)-1]\n",
    "    # Fixed and Variable dt times\n",
    "    fTime = vTimes[0]\n",
    "    vTime = vTimes[0]\n",
    "    # Index of variable dt time array\n",
    "    vIndex = 0\n",
    "    # Advance the fixed dt position\n",
    "    #\n",
    "    \n",
    "    fPots = inner_core(fPots,int(vIndex),float(vTime),float(fTime),float(duration),list(vTimes),list(vPots),float(fDt))\n",
    "    return fPots\n"
   ]
  },
  {
   "cell_type": "code",
   "execution_count": 2,
   "metadata": {},
   "outputs": [
    {
     "name": "stderr",
     "output_type": "stream",
     "text": [
      "/home/user/anaconda3/lib/python3.7/site-packages/airspeed/__init__.py:505: FutureWarning: Possible nested set at position 8\n",
      "  KEYVALSEP = re.compile(r'[ \\t]*:[[ \\t]*(.*)$', re.S)\n"
     ]
    },
    {
     "data": {
      "application/javascript": [
       "/* Put everything inside the global mpl namespace */\n",
       "window.mpl = {};\n",
       "\n",
       "\n",
       "mpl.get_websocket_type = function() {\n",
       "    if (typeof(WebSocket) !== 'undefined') {\n",
       "        return WebSocket;\n",
       "    } else if (typeof(MozWebSocket) !== 'undefined') {\n",
       "        return MozWebSocket;\n",
       "    } else {\n",
       "        alert('Your browser does not have WebSocket support. ' +\n",
       "              'Please try Chrome, Safari or Firefox ≥ 6. ' +\n",
       "              'Firefox 4 and 5 are also supported but you ' +\n",
       "              'have to enable WebSockets in about:config.');\n",
       "    };\n",
       "}\n",
       "\n",
       "mpl.figure = function(figure_id, websocket, ondownload, parent_element) {\n",
       "    this.id = figure_id;\n",
       "\n",
       "    this.ws = websocket;\n",
       "\n",
       "    this.supports_binary = (this.ws.binaryType != undefined);\n",
       "\n",
       "    if (!this.supports_binary) {\n",
       "        var warnings = document.getElementById(\"mpl-warnings\");\n",
       "        if (warnings) {\n",
       "            warnings.style.display = 'block';\n",
       "            warnings.textContent = (\n",
       "                \"This browser does not support binary websocket messages. \" +\n",
       "                    \"Performance may be slow.\");\n",
       "        }\n",
       "    }\n",
       "\n",
       "    this.imageObj = new Image();\n",
       "\n",
       "    this.context = undefined;\n",
       "    this.message = undefined;\n",
       "    this.canvas = undefined;\n",
       "    this.rubberband_canvas = undefined;\n",
       "    this.rubberband_context = undefined;\n",
       "    this.format_dropdown = undefined;\n",
       "\n",
       "    this.image_mode = 'full';\n",
       "\n",
       "    this.root = $('<div/>');\n",
       "    this._root_extra_style(this.root)\n",
       "    this.root.attr('style', 'display: inline-block');\n",
       "\n",
       "    $(parent_element).append(this.root);\n",
       "\n",
       "    this._init_header(this);\n",
       "    this._init_canvas(this);\n",
       "    this._init_toolbar(this);\n",
       "\n",
       "    var fig = this;\n",
       "\n",
       "    this.waiting = false;\n",
       "\n",
       "    this.ws.onopen =  function () {\n",
       "            fig.send_message(\"supports_binary\", {value: fig.supports_binary});\n",
       "            fig.send_message(\"send_image_mode\", {});\n",
       "            if (mpl.ratio != 1) {\n",
       "                fig.send_message(\"set_dpi_ratio\", {'dpi_ratio': mpl.ratio});\n",
       "            }\n",
       "            fig.send_message(\"refresh\", {});\n",
       "        }\n",
       "\n",
       "    this.imageObj.onload = function() {\n",
       "            if (fig.image_mode == 'full') {\n",
       "                // Full images could contain transparency (where diff images\n",
       "                // almost always do), so we need to clear the canvas so that\n",
       "                // there is no ghosting.\n",
       "                fig.context.clearRect(0, 0, fig.canvas.width, fig.canvas.height);\n",
       "            }\n",
       "            fig.context.drawImage(fig.imageObj, 0, 0);\n",
       "        };\n",
       "\n",
       "    this.imageObj.onunload = function() {\n",
       "        fig.ws.close();\n",
       "    }\n",
       "\n",
       "    this.ws.onmessage = this._make_on_message_function(this);\n",
       "\n",
       "    this.ondownload = ondownload;\n",
       "}\n",
       "\n",
       "mpl.figure.prototype._init_header = function() {\n",
       "    var titlebar = $(\n",
       "        '<div class=\"ui-dialog-titlebar ui-widget-header ui-corner-all ' +\n",
       "        'ui-helper-clearfix\"/>');\n",
       "    var titletext = $(\n",
       "        '<div class=\"ui-dialog-title\" style=\"width: 100%; ' +\n",
       "        'text-align: center; padding: 3px;\"/>');\n",
       "    titlebar.append(titletext)\n",
       "    this.root.append(titlebar);\n",
       "    this.header = titletext[0];\n",
       "}\n",
       "\n",
       "\n",
       "\n",
       "mpl.figure.prototype._canvas_extra_style = function(canvas_div) {\n",
       "\n",
       "}\n",
       "\n",
       "\n",
       "mpl.figure.prototype._root_extra_style = function(canvas_div) {\n",
       "\n",
       "}\n",
       "\n",
       "mpl.figure.prototype._init_canvas = function() {\n",
       "    var fig = this;\n",
       "\n",
       "    var canvas_div = $('<div/>');\n",
       "\n",
       "    canvas_div.attr('style', 'position: relative; clear: both; outline: 0');\n",
       "\n",
       "    function canvas_keyboard_event(event) {\n",
       "        return fig.key_event(event, event['data']);\n",
       "    }\n",
       "\n",
       "    canvas_div.keydown('key_press', canvas_keyboard_event);\n",
       "    canvas_div.keyup('key_release', canvas_keyboard_event);\n",
       "    this.canvas_div = canvas_div\n",
       "    this._canvas_extra_style(canvas_div)\n",
       "    this.root.append(canvas_div);\n",
       "\n",
       "    var canvas = $('<canvas/>');\n",
       "    canvas.addClass('mpl-canvas');\n",
       "    canvas.attr('style', \"left: 0; top: 0; z-index: 0; outline: 0\")\n",
       "\n",
       "    this.canvas = canvas[0];\n",
       "    this.context = canvas[0].getContext(\"2d\");\n",
       "\n",
       "    var backingStore = this.context.backingStorePixelRatio ||\n",
       "\tthis.context.webkitBackingStorePixelRatio ||\n",
       "\tthis.context.mozBackingStorePixelRatio ||\n",
       "\tthis.context.msBackingStorePixelRatio ||\n",
       "\tthis.context.oBackingStorePixelRatio ||\n",
       "\tthis.context.backingStorePixelRatio || 1;\n",
       "\n",
       "    mpl.ratio = (window.devicePixelRatio || 1) / backingStore;\n",
       "\n",
       "    var rubberband = $('<canvas/>');\n",
       "    rubberband.attr('style', \"position: absolute; left: 0; top: 0; z-index: 1;\")\n",
       "\n",
       "    var pass_mouse_events = true;\n",
       "\n",
       "    canvas_div.resizable({\n",
       "        start: function(event, ui) {\n",
       "            pass_mouse_events = false;\n",
       "        },\n",
       "        resize: function(event, ui) {\n",
       "            fig.request_resize(ui.size.width, ui.size.height);\n",
       "        },\n",
       "        stop: function(event, ui) {\n",
       "            pass_mouse_events = true;\n",
       "            fig.request_resize(ui.size.width, ui.size.height);\n",
       "        },\n",
       "    });\n",
       "\n",
       "    function mouse_event_fn(event) {\n",
       "        if (pass_mouse_events)\n",
       "            return fig.mouse_event(event, event['data']);\n",
       "    }\n",
       "\n",
       "    rubberband.mousedown('button_press', mouse_event_fn);\n",
       "    rubberband.mouseup('button_release', mouse_event_fn);\n",
       "    // Throttle sequential mouse events to 1 every 20ms.\n",
       "    rubberband.mousemove('motion_notify', mouse_event_fn);\n",
       "\n",
       "    rubberband.mouseenter('figure_enter', mouse_event_fn);\n",
       "    rubberband.mouseleave('figure_leave', mouse_event_fn);\n",
       "\n",
       "    canvas_div.on(\"wheel\", function (event) {\n",
       "        event = event.originalEvent;\n",
       "        event['data'] = 'scroll'\n",
       "        if (event.deltaY < 0) {\n",
       "            event.step = 1;\n",
       "        } else {\n",
       "            event.step = -1;\n",
       "        }\n",
       "        mouse_event_fn(event);\n",
       "    });\n",
       "\n",
       "    canvas_div.append(canvas);\n",
       "    canvas_div.append(rubberband);\n",
       "\n",
       "    this.rubberband = rubberband;\n",
       "    this.rubberband_canvas = rubberband[0];\n",
       "    this.rubberband_context = rubberband[0].getContext(\"2d\");\n",
       "    this.rubberband_context.strokeStyle = \"#000000\";\n",
       "\n",
       "    this._resize_canvas = function(width, height) {\n",
       "        // Keep the size of the canvas, canvas container, and rubber band\n",
       "        // canvas in synch.\n",
       "        canvas_div.css('width', width)\n",
       "        canvas_div.css('height', height)\n",
       "\n",
       "        canvas.attr('width', width * mpl.ratio);\n",
       "        canvas.attr('height', height * mpl.ratio);\n",
       "        canvas.attr('style', 'width: ' + width + 'px; height: ' + height + 'px;');\n",
       "\n",
       "        rubberband.attr('width', width);\n",
       "        rubberband.attr('height', height);\n",
       "    }\n",
       "\n",
       "    // Set the figure to an initial 600x600px, this will subsequently be updated\n",
       "    // upon first draw.\n",
       "    this._resize_canvas(600, 600);\n",
       "\n",
       "    // Disable right mouse context menu.\n",
       "    $(this.rubberband_canvas).bind(\"contextmenu\",function(e){\n",
       "        return false;\n",
       "    });\n",
       "\n",
       "    function set_focus () {\n",
       "        canvas.focus();\n",
       "        canvas_div.focus();\n",
       "    }\n",
       "\n",
       "    window.setTimeout(set_focus, 100);\n",
       "}\n",
       "\n",
       "mpl.figure.prototype._init_toolbar = function() {\n",
       "    var fig = this;\n",
       "\n",
       "    var nav_element = $('<div/>');\n",
       "    nav_element.attr('style', 'width: 100%');\n",
       "    this.root.append(nav_element);\n",
       "\n",
       "    // Define a callback function for later on.\n",
       "    function toolbar_event(event) {\n",
       "        return fig.toolbar_button_onclick(event['data']);\n",
       "    }\n",
       "    function toolbar_mouse_event(event) {\n",
       "        return fig.toolbar_button_onmouseover(event['data']);\n",
       "    }\n",
       "\n",
       "    for(var toolbar_ind in mpl.toolbar_items) {\n",
       "        var name = mpl.toolbar_items[toolbar_ind][0];\n",
       "        var tooltip = mpl.toolbar_items[toolbar_ind][1];\n",
       "        var image = mpl.toolbar_items[toolbar_ind][2];\n",
       "        var method_name = mpl.toolbar_items[toolbar_ind][3];\n",
       "\n",
       "        if (!name) {\n",
       "            // put a spacer in here.\n",
       "            continue;\n",
       "        }\n",
       "        var button = $('<button/>');\n",
       "        button.addClass('ui-button ui-widget ui-state-default ui-corner-all ' +\n",
       "                        'ui-button-icon-only');\n",
       "        button.attr('role', 'button');\n",
       "        button.attr('aria-disabled', 'false');\n",
       "        button.click(method_name, toolbar_event);\n",
       "        button.mouseover(tooltip, toolbar_mouse_event);\n",
       "\n",
       "        var icon_img = $('<span/>');\n",
       "        icon_img.addClass('ui-button-icon-primary ui-icon');\n",
       "        icon_img.addClass(image);\n",
       "        icon_img.addClass('ui-corner-all');\n",
       "\n",
       "        var tooltip_span = $('<span/>');\n",
       "        tooltip_span.addClass('ui-button-text');\n",
       "        tooltip_span.html(tooltip);\n",
       "\n",
       "        button.append(icon_img);\n",
       "        button.append(tooltip_span);\n",
       "\n",
       "        nav_element.append(button);\n",
       "    }\n",
       "\n",
       "    var fmt_picker_span = $('<span/>');\n",
       "\n",
       "    var fmt_picker = $('<select/>');\n",
       "    fmt_picker.addClass('mpl-toolbar-option ui-widget ui-widget-content');\n",
       "    fmt_picker_span.append(fmt_picker);\n",
       "    nav_element.append(fmt_picker_span);\n",
       "    this.format_dropdown = fmt_picker[0];\n",
       "\n",
       "    for (var ind in mpl.extensions) {\n",
       "        var fmt = mpl.extensions[ind];\n",
       "        var option = $(\n",
       "            '<option/>', {selected: fmt === mpl.default_extension}).html(fmt);\n",
       "        fmt_picker.append(option);\n",
       "    }\n",
       "\n",
       "    // Add hover states to the ui-buttons\n",
       "    $( \".ui-button\" ).hover(\n",
       "        function() { $(this).addClass(\"ui-state-hover\");},\n",
       "        function() { $(this).removeClass(\"ui-state-hover\");}\n",
       "    );\n",
       "\n",
       "    var status_bar = $('<span class=\"mpl-message\"/>');\n",
       "    nav_element.append(status_bar);\n",
       "    this.message = status_bar[0];\n",
       "}\n",
       "\n",
       "mpl.figure.prototype.request_resize = function(x_pixels, y_pixels) {\n",
       "    // Request matplotlib to resize the figure. Matplotlib will then trigger a resize in the client,\n",
       "    // which will in turn request a refresh of the image.\n",
       "    this.send_message('resize', {'width': x_pixels, 'height': y_pixels});\n",
       "}\n",
       "\n",
       "mpl.figure.prototype.send_message = function(type, properties) {\n",
       "    properties['type'] = type;\n",
       "    properties['figure_id'] = this.id;\n",
       "    this.ws.send(JSON.stringify(properties));\n",
       "}\n",
       "\n",
       "mpl.figure.prototype.send_draw_message = function() {\n",
       "    if (!this.waiting) {\n",
       "        this.waiting = true;\n",
       "        this.ws.send(JSON.stringify({type: \"draw\", figure_id: this.id}));\n",
       "    }\n",
       "}\n",
       "\n",
       "\n",
       "mpl.figure.prototype.handle_save = function(fig, msg) {\n",
       "    var format_dropdown = fig.format_dropdown;\n",
       "    var format = format_dropdown.options[format_dropdown.selectedIndex].value;\n",
       "    fig.ondownload(fig, format);\n",
       "}\n",
       "\n",
       "\n",
       "mpl.figure.prototype.handle_resize = function(fig, msg) {\n",
       "    var size = msg['size'];\n",
       "    if (size[0] != fig.canvas.width || size[1] != fig.canvas.height) {\n",
       "        fig._resize_canvas(size[0], size[1]);\n",
       "        fig.send_message(\"refresh\", {});\n",
       "    };\n",
       "}\n",
       "\n",
       "mpl.figure.prototype.handle_rubberband = function(fig, msg) {\n",
       "    var x0 = msg['x0'] / mpl.ratio;\n",
       "    var y0 = (fig.canvas.height - msg['y0']) / mpl.ratio;\n",
       "    var x1 = msg['x1'] / mpl.ratio;\n",
       "    var y1 = (fig.canvas.height - msg['y1']) / mpl.ratio;\n",
       "    x0 = Math.floor(x0) + 0.5;\n",
       "    y0 = Math.floor(y0) + 0.5;\n",
       "    x1 = Math.floor(x1) + 0.5;\n",
       "    y1 = Math.floor(y1) + 0.5;\n",
       "    var min_x = Math.min(x0, x1);\n",
       "    var min_y = Math.min(y0, y1);\n",
       "    var width = Math.abs(x1 - x0);\n",
       "    var height = Math.abs(y1 - y0);\n",
       "\n",
       "    fig.rubberband_context.clearRect(\n",
       "        0, 0, fig.canvas.width / mpl.ratio, fig.canvas.height / mpl.ratio);\n",
       "\n",
       "    fig.rubberband_context.strokeRect(min_x, min_y, width, height);\n",
       "}\n",
       "\n",
       "mpl.figure.prototype.handle_figure_label = function(fig, msg) {\n",
       "    // Updates the figure title.\n",
       "    fig.header.textContent = msg['label'];\n",
       "}\n",
       "\n",
       "mpl.figure.prototype.handle_cursor = function(fig, msg) {\n",
       "    var cursor = msg['cursor'];\n",
       "    switch(cursor)\n",
       "    {\n",
       "    case 0:\n",
       "        cursor = 'pointer';\n",
       "        break;\n",
       "    case 1:\n",
       "        cursor = 'default';\n",
       "        break;\n",
       "    case 2:\n",
       "        cursor = 'crosshair';\n",
       "        break;\n",
       "    case 3:\n",
       "        cursor = 'move';\n",
       "        break;\n",
       "    }\n",
       "    fig.rubberband_canvas.style.cursor = cursor;\n",
       "}\n",
       "\n",
       "mpl.figure.prototype.handle_message = function(fig, msg) {\n",
       "    fig.message.textContent = msg['message'];\n",
       "}\n",
       "\n",
       "mpl.figure.prototype.handle_draw = function(fig, msg) {\n",
       "    // Request the server to send over a new figure.\n",
       "    fig.send_draw_message();\n",
       "}\n",
       "\n",
       "mpl.figure.prototype.handle_image_mode = function(fig, msg) {\n",
       "    fig.image_mode = msg['mode'];\n",
       "}\n",
       "\n",
       "mpl.figure.prototype.updated_canvas_event = function() {\n",
       "    // Called whenever the canvas gets updated.\n",
       "    this.send_message(\"ack\", {});\n",
       "}\n",
       "\n",
       "// A function to construct a web socket function for onmessage handling.\n",
       "// Called in the figure constructor.\n",
       "mpl.figure.prototype._make_on_message_function = function(fig) {\n",
       "    return function socket_on_message(evt) {\n",
       "        if (evt.data instanceof Blob) {\n",
       "            /* FIXME: We get \"Resource interpreted as Image but\n",
       "             * transferred with MIME type text/plain:\" errors on\n",
       "             * Chrome.  But how to set the MIME type?  It doesn't seem\n",
       "             * to be part of the websocket stream */\n",
       "            evt.data.type = \"image/png\";\n",
       "\n",
       "            /* Free the memory for the previous frames */\n",
       "            if (fig.imageObj.src) {\n",
       "                (window.URL || window.webkitURL).revokeObjectURL(\n",
       "                    fig.imageObj.src);\n",
       "            }\n",
       "\n",
       "            fig.imageObj.src = (window.URL || window.webkitURL).createObjectURL(\n",
       "                evt.data);\n",
       "            fig.updated_canvas_event();\n",
       "            fig.waiting = false;\n",
       "            return;\n",
       "        }\n",
       "        else if (typeof evt.data === 'string' && evt.data.slice(0, 21) == \"data:image/png;base64\") {\n",
       "            fig.imageObj.src = evt.data;\n",
       "            fig.updated_canvas_event();\n",
       "            fig.waiting = false;\n",
       "            return;\n",
       "        }\n",
       "\n",
       "        var msg = JSON.parse(evt.data);\n",
       "        var msg_type = msg['type'];\n",
       "\n",
       "        // Call the  \"handle_{type}\" callback, which takes\n",
       "        // the figure and JSON message as its only arguments.\n",
       "        try {\n",
       "            var callback = fig[\"handle_\" + msg_type];\n",
       "        } catch (e) {\n",
       "            console.log(\"No handler for the '\" + msg_type + \"' message type: \", msg);\n",
       "            return;\n",
       "        }\n",
       "\n",
       "        if (callback) {\n",
       "            try {\n",
       "                // console.log(\"Handling '\" + msg_type + \"' message: \", msg);\n",
       "                callback(fig, msg);\n",
       "            } catch (e) {\n",
       "                console.log(\"Exception inside the 'handler_\" + msg_type + \"' callback:\", e, e.stack, msg);\n",
       "            }\n",
       "        }\n",
       "    };\n",
       "}\n",
       "\n",
       "// from http://stackoverflow.com/questions/1114465/getting-mouse-location-in-canvas\n",
       "mpl.findpos = function(e) {\n",
       "    //this section is from http://www.quirksmode.org/js/events_properties.html\n",
       "    var targ;\n",
       "    if (!e)\n",
       "        e = window.event;\n",
       "    if (e.target)\n",
       "        targ = e.target;\n",
       "    else if (e.srcElement)\n",
       "        targ = e.srcElement;\n",
       "    if (targ.nodeType == 3) // defeat Safari bug\n",
       "        targ = targ.parentNode;\n",
       "\n",
       "    // jQuery normalizes the pageX and pageY\n",
       "    // pageX,Y are the mouse positions relative to the document\n",
       "    // offset() returns the position of the element relative to the document\n",
       "    var x = e.pageX - $(targ).offset().left;\n",
       "    var y = e.pageY - $(targ).offset().top;\n",
       "\n",
       "    return {\"x\": x, \"y\": y};\n",
       "};\n",
       "\n",
       "/*\n",
       " * return a copy of an object with only non-object keys\n",
       " * we need this to avoid circular references\n",
       " * http://stackoverflow.com/a/24161582/3208463\n",
       " */\n",
       "function simpleKeys (original) {\n",
       "  return Object.keys(original).reduce(function (obj, key) {\n",
       "    if (typeof original[key] !== 'object')\n",
       "        obj[key] = original[key]\n",
       "    return obj;\n",
       "  }, {});\n",
       "}\n",
       "\n",
       "mpl.figure.prototype.mouse_event = function(event, name) {\n",
       "    var canvas_pos = mpl.findpos(event)\n",
       "\n",
       "    if (name === 'button_press')\n",
       "    {\n",
       "        this.canvas.focus();\n",
       "        this.canvas_div.focus();\n",
       "    }\n",
       "\n",
       "    var x = canvas_pos.x * mpl.ratio;\n",
       "    var y = canvas_pos.y * mpl.ratio;\n",
       "\n",
       "    this.send_message(name, {x: x, y: y, button: event.button,\n",
       "                             step: event.step,\n",
       "                             guiEvent: simpleKeys(event)});\n",
       "\n",
       "    /* This prevents the web browser from automatically changing to\n",
       "     * the text insertion cursor when the button is pressed.  We want\n",
       "     * to control all of the cursor setting manually through the\n",
       "     * 'cursor' event from matplotlib */\n",
       "    event.preventDefault();\n",
       "    return false;\n",
       "}\n",
       "\n",
       "mpl.figure.prototype._key_event_extra = function(event, name) {\n",
       "    // Handle any extra behaviour associated with a key event\n",
       "}\n",
       "\n",
       "mpl.figure.prototype.key_event = function(event, name) {\n",
       "\n",
       "    // Prevent repeat events\n",
       "    if (name == 'key_press')\n",
       "    {\n",
       "        if (event.which === this._key)\n",
       "            return;\n",
       "        else\n",
       "            this._key = event.which;\n",
       "    }\n",
       "    if (name == 'key_release')\n",
       "        this._key = null;\n",
       "\n",
       "    var value = '';\n",
       "    if (event.ctrlKey && event.which != 17)\n",
       "        value += \"ctrl+\";\n",
       "    if (event.altKey && event.which != 18)\n",
       "        value += \"alt+\";\n",
       "    if (event.shiftKey && event.which != 16)\n",
       "        value += \"shift+\";\n",
       "\n",
       "    value += 'k';\n",
       "    value += event.which.toString();\n",
       "\n",
       "    this._key_event_extra(event, name);\n",
       "\n",
       "    this.send_message(name, {key: value,\n",
       "                             guiEvent: simpleKeys(event)});\n",
       "    return false;\n",
       "}\n",
       "\n",
       "mpl.figure.prototype.toolbar_button_onclick = function(name) {\n",
       "    if (name == 'download') {\n",
       "        this.handle_save(this, null);\n",
       "    } else {\n",
       "        this.send_message(\"toolbar_button\", {name: name});\n",
       "    }\n",
       "};\n",
       "\n",
       "mpl.figure.prototype.toolbar_button_onmouseover = function(tooltip) {\n",
       "    this.message.textContent = tooltip;\n",
       "};\n",
       "mpl.toolbar_items = [[\"Home\", \"Reset original view\", \"fa fa-home icon-home\", \"home\"], [\"Back\", \"Back to previous view\", \"fa fa-arrow-left icon-arrow-left\", \"back\"], [\"Forward\", \"Forward to next view\", \"fa fa-arrow-right icon-arrow-right\", \"forward\"], [\"\", \"\", \"\", \"\"], [\"Pan\", \"Pan axes with left mouse, zoom with right\", \"fa fa-arrows icon-move\", \"pan\"], [\"Zoom\", \"Zoom to rectangle\", \"fa fa-square-o icon-check-empty\", \"zoom\"], [\"\", \"\", \"\", \"\"], [\"Download\", \"Download plot\", \"fa fa-floppy-o icon-save\", \"download\"]];\n",
       "\n",
       "mpl.extensions = [\"eps\", \"jpeg\", \"pdf\", \"png\", \"ps\", \"raw\", \"svg\", \"tif\"];\n",
       "\n",
       "mpl.default_extension = \"png\";var comm_websocket_adapter = function(comm) {\n",
       "    // Create a \"websocket\"-like object which calls the given IPython comm\n",
       "    // object with the appropriate methods. Currently this is a non binary\n",
       "    // socket, so there is still some room for performance tuning.\n",
       "    var ws = {};\n",
       "\n",
       "    ws.close = function() {\n",
       "        comm.close()\n",
       "    };\n",
       "    ws.send = function(m) {\n",
       "        //console.log('sending', m);\n",
       "        comm.send(m);\n",
       "    };\n",
       "    // Register the callback with on_msg.\n",
       "    comm.on_msg(function(msg) {\n",
       "        //console.log('receiving', msg['content']['data'], msg);\n",
       "        // Pass the mpl event to the overridden (by mpl) onmessage function.\n",
       "        ws.onmessage(msg['content']['data'])\n",
       "    });\n",
       "    return ws;\n",
       "}\n",
       "\n",
       "mpl.mpl_figure_comm = function(comm, msg) {\n",
       "    // This is the function which gets called when the mpl process\n",
       "    // starts-up an IPython Comm through the \"matplotlib\" channel.\n",
       "\n",
       "    var id = msg.content.data.id;\n",
       "    // Get hold of the div created by the display call when the Comm\n",
       "    // socket was opened in Python.\n",
       "    var element = $(\"#\" + id);\n",
       "    var ws_proxy = comm_websocket_adapter(comm)\n",
       "\n",
       "    function ondownload(figure, format) {\n",
       "        window.open(figure.imageObj.src);\n",
       "    }\n",
       "\n",
       "    var fig = new mpl.figure(id, ws_proxy,\n",
       "                           ondownload,\n",
       "                           element.get(0));\n",
       "\n",
       "    // Call onopen now - mpl needs it, as it is assuming we've passed it a real\n",
       "    // web socket which is closed, not our websocket->open comm proxy.\n",
       "    ws_proxy.onopen();\n",
       "\n",
       "    fig.parent_element = element.get(0);\n",
       "    fig.cell_info = mpl.find_output_cell(\"<div id='\" + id + \"'></div>\");\n",
       "    if (!fig.cell_info) {\n",
       "        console.error(\"Failed to find cell for figure\", id, fig);\n",
       "        return;\n",
       "    }\n",
       "\n",
       "    var output_index = fig.cell_info[2]\n",
       "    var cell = fig.cell_info[0];\n",
       "\n",
       "};\n",
       "\n",
       "mpl.figure.prototype.handle_close = function(fig, msg) {\n",
       "    var width = fig.canvas.width/mpl.ratio\n",
       "    fig.root.unbind('remove')\n",
       "\n",
       "    // Update the output cell to use the data from the current canvas.\n",
       "    fig.push_to_output();\n",
       "    var dataURL = fig.canvas.toDataURL();\n",
       "    // Re-enable the keyboard manager in IPython - without this line, in FF,\n",
       "    // the notebook keyboard shortcuts fail.\n",
       "    IPython.keyboard_manager.enable()\n",
       "    $(fig.parent_element).html('<img src=\"' + dataURL + '\" width=\"' + width + '\">');\n",
       "    fig.close_ws(fig, msg);\n",
       "}\n",
       "\n",
       "mpl.figure.prototype.close_ws = function(fig, msg){\n",
       "    fig.send_message('closing', msg);\n",
       "    // fig.ws.close()\n",
       "}\n",
       "\n",
       "mpl.figure.prototype.push_to_output = function(remove_interactive) {\n",
       "    // Turn the data on the canvas into data in the output cell.\n",
       "    var width = this.canvas.width/mpl.ratio\n",
       "    var dataURL = this.canvas.toDataURL();\n",
       "    this.cell_info[1]['text/html'] = '<img src=\"' + dataURL + '\" width=\"' + width + '\">';\n",
       "}\n",
       "\n",
       "mpl.figure.prototype.updated_canvas_event = function() {\n",
       "    // Tell IPython that the notebook contents must change.\n",
       "    IPython.notebook.set_dirty(true);\n",
       "    this.send_message(\"ack\", {});\n",
       "    var fig = this;\n",
       "    // Wait a second, then push the new image to the DOM so\n",
       "    // that it is saved nicely (might be nice to debounce this).\n",
       "    setTimeout(function () { fig.push_to_output() }, 1000);\n",
       "}\n",
       "\n",
       "mpl.figure.prototype._init_toolbar = function() {\n",
       "    var fig = this;\n",
       "\n",
       "    var nav_element = $('<div/>');\n",
       "    nav_element.attr('style', 'width: 100%');\n",
       "    this.root.append(nav_element);\n",
       "\n",
       "    // Define a callback function for later on.\n",
       "    function toolbar_event(event) {\n",
       "        return fig.toolbar_button_onclick(event['data']);\n",
       "    }\n",
       "    function toolbar_mouse_event(event) {\n",
       "        return fig.toolbar_button_onmouseover(event['data']);\n",
       "    }\n",
       "\n",
       "    for(var toolbar_ind in mpl.toolbar_items){\n",
       "        var name = mpl.toolbar_items[toolbar_ind][0];\n",
       "        var tooltip = mpl.toolbar_items[toolbar_ind][1];\n",
       "        var image = mpl.toolbar_items[toolbar_ind][2];\n",
       "        var method_name = mpl.toolbar_items[toolbar_ind][3];\n",
       "\n",
       "        if (!name) { continue; };\n",
       "\n",
       "        var button = $('<button class=\"btn btn-default\" href=\"#\" title=\"' + name + '\"><i class=\"fa ' + image + ' fa-lg\"></i></button>');\n",
       "        button.click(method_name, toolbar_event);\n",
       "        button.mouseover(tooltip, toolbar_mouse_event);\n",
       "        nav_element.append(button);\n",
       "    }\n",
       "\n",
       "    // Add the status bar.\n",
       "    var status_bar = $('<span class=\"mpl-message\" style=\"text-align:right; float: right;\"/>');\n",
       "    nav_element.append(status_bar);\n",
       "    this.message = status_bar[0];\n",
       "\n",
       "    // Add the close button to the window.\n",
       "    var buttongrp = $('<div class=\"btn-group inline pull-right\"></div>');\n",
       "    var button = $('<button class=\"btn btn-mini btn-primary\" href=\"#\" title=\"Stop Interaction\"><i class=\"fa fa-power-off icon-remove icon-large\"></i></button>');\n",
       "    button.click(function (evt) { fig.handle_close(fig, {}); } );\n",
       "    button.mouseover('Stop Interaction', toolbar_mouse_event);\n",
       "    buttongrp.append(button);\n",
       "    var titlebar = this.root.find($('.ui-dialog-titlebar'));\n",
       "    titlebar.prepend(buttongrp);\n",
       "}\n",
       "\n",
       "mpl.figure.prototype._root_extra_style = function(el){\n",
       "    var fig = this\n",
       "    el.on(\"remove\", function(){\n",
       "\tfig.close_ws(fig, {});\n",
       "    });\n",
       "}\n",
       "\n",
       "mpl.figure.prototype._canvas_extra_style = function(el){\n",
       "    // this is important to make the div 'focusable\n",
       "    el.attr('tabindex', 0)\n",
       "    // reach out to IPython and tell the keyboard manager to turn it's self\n",
       "    // off when our div gets focus\n",
       "\n",
       "    // location in version 3\n",
       "    if (IPython.notebook.keyboard_manager) {\n",
       "        IPython.notebook.keyboard_manager.register_events(el);\n",
       "    }\n",
       "    else {\n",
       "        // location in version 2\n",
       "        IPython.keyboard_manager.register_events(el);\n",
       "    }\n",
       "\n",
       "}\n",
       "\n",
       "mpl.figure.prototype._key_event_extra = function(event, name) {\n",
       "    var manager = IPython.notebook.keyboard_manager;\n",
       "    if (!manager)\n",
       "        manager = IPython.keyboard_manager;\n",
       "\n",
       "    // Check for shift+enter\n",
       "    if (event.shiftKey && event.which == 13) {\n",
       "        this.canvas_div.blur();\n",
       "        event.shiftKey = false;\n",
       "        // Send a \"J\" for go to next cell\n",
       "        event.which = 74;\n",
       "        event.keyCode = 74;\n",
       "        manager.command_mode();\n",
       "        manager.handle_keydown(event);\n",
       "    }\n",
       "}\n",
       "\n",
       "mpl.figure.prototype.handle_save = function(fig, msg) {\n",
       "    fig.ondownload(fig, null);\n",
       "}\n",
       "\n",
       "\n",
       "mpl.find_output_cell = function(html_output) {\n",
       "    // Return the cell and output element which can be found *uniquely* in the notebook.\n",
       "    // Note - this is a bit hacky, but it is done because the \"notebook_saving.Notebook\"\n",
       "    // IPython event is triggered only after the cells have been serialised, which for\n",
       "    // our purposes (turning an active figure into a static one), is too late.\n",
       "    var cells = IPython.notebook.get_cells();\n",
       "    var ncells = cells.length;\n",
       "    for (var i=0; i<ncells; i++) {\n",
       "        var cell = cells[i];\n",
       "        if (cell.cell_type === 'code'){\n",
       "            for (var j=0; j<cell.output_area.outputs.length; j++) {\n",
       "                var data = cell.output_area.outputs[j];\n",
       "                if (data.data) {\n",
       "                    // IPython >= 3 moved mimebundle to data attribute of output\n",
       "                    data = data.data;\n",
       "                }\n",
       "                if (data['text/html'] == html_output) {\n",
       "                    return [cell, data, j];\n",
       "                }\n",
       "            }\n",
       "        }\n",
       "    }\n",
       "}\n",
       "\n",
       "// Register the function which deals with the matplotlib target/channel.\n",
       "// The kernel may be null if the page has been refreshed.\n",
       "if (IPython.notebook.kernel != null) {\n",
       "    IPython.notebook.kernel.comm_manager.register_target('matplotlib', mpl.mpl_figure_comm);\n",
       "}\n"
      ],
      "text/plain": [
       "<IPython.core.display.Javascript object>"
      ]
     },
     "metadata": {},
     "output_type": "display_data"
    },
    {
     "data": {
      "text/html": [
       "<img src=\"data:image/png;base64,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\" width=\"640\">"
      ],
      "text/plain": [
       "<IPython.core.display.HTML object>"
      ]
     },
     "metadata": {},
     "output_type": "display_data"
    }
   ],
   "source": [
    "%load_ext autoreload\n",
    "%autoreload\n",
    "if False:\n",
    "    !nrnivmodl mechanisms\n",
    "import bluepyopt as bpopt\n",
    "import bluepyopt.ephys as ephys\n",
    "\n",
    "import pprint\n",
    "pp = pprint.PrettyPrinter(indent=2)\n",
    "\n",
    "%matplotlib notebook\n",
    "import matplotlib.pyplot as plt\n",
    "plt.plot([1,0],[0,1])\n",
    "plt.show()"
   ]
  },
  {
   "cell_type": "markdown",
   "metadata": {},
   "source": [
    "Enable the code below to enable debug level logging"
   ]
  },
  {
   "cell_type": "code",
   "execution_count": 3,
   "metadata": {},
   "outputs": [],
   "source": [
    "# import logging                                                                      \n",
    "# logging.basicConfig()                                                               \n",
    "# logger = logging.getLogger()                                                        \n",
    "# logger.setLevel(logging.DEBUG)   "
   ]
  },
  {
   "cell_type": "markdown",
   "metadata": {},
   "source": [
    "## Model description"
   ]
  },
  {
   "cell_type": "markdown",
   "metadata": {},
   "source": [
    "### Morphology"
   ]
  },
  {
   "cell_type": "markdown",
   "metadata": {},
   "source": [
    "We're using a complex reconstructed morphology of an L5PC cell. Let's visualise this with the BlueBrain NeuroM software:"
   ]
  },
  {
   "cell_type": "code",
   "execution_count": 4,
   "metadata": {},
   "outputs": [],
   "source": [
    "if False:\n",
    "    try:\n",
    "        import neurom.viewer\n",
    "        neurom.viewer.draw(neurom.load_neuron('morphology/C060114A7.asc'));\n",
    "    except:\n",
    "        !pip install neurom --upgrade\n",
    "        import neurom.viewer\n",
    "        neurom.viewer.draw(neurom.load_neuron('morphology/C060114A7.asc'));"
   ]
  },
  {
   "cell_type": "markdown",
   "metadata": {},
   "source": [
    "To load the morphology we create a NrnFileMorphology object. We set 'do_replace_axon' to True to replace the axon with a AIS."
   ]
  },
  {
   "cell_type": "code",
   "execution_count": 5,
   "metadata": {},
   "outputs": [
    {
     "name": "stdout",
     "output_type": "stream",
     "text": [
      "morphology/C060114A7.asc\n"
     ]
    }
   ],
   "source": [
    "morphology = ephys.morphologies.NrnFileMorphology('morphology/C060114A7.asc', do_replace_axon=True)\n",
    "print(str(morphology))"
   ]
  },
  {
   "cell_type": "markdown",
   "metadata": {},
   "source": [
    "### Parameters"
   ]
  },
  {
   "cell_type": "markdown",
   "metadata": {},
   "source": [
    "Since we have many parameters in this model, they are stored in a json file: https://github.com/BlueBrain/BluePyOpt/blob/master/examples/l5pc/config/parameters.json"
   ]
  },
  {
   "cell_type": "code",
   "execution_count": 6,
   "metadata": {},
   "outputs": [
    {
     "name": "stdout",
     "output_type": "stream",
     "text": [
      "['g_pas', 'e_pas', 'cm', 'Ra', 'v_init', 'celsius', 'ena', 'ek', 'cm', 'ena', 'ek', 'cm', 'ena', 'ek', 'gIhbar_Ih', 'gNaTs2_tbar_NaTs2_t', 'gSKv3_1bar_SKv3_1', 'gImbar_Im', 'gIhbar_Ih', 'gNaTa_tbar_NaTa_t', 'gNap_Et2bar_Nap_Et2', 'gK_Pstbar_K_Pst', 'gK_Tstbar_K_Tst', 'gSK_E2bar_SK_E2', 'gSKv3_1bar_SKv3_1', 'gCa_HVAbar_Ca_HVA', 'gCa_LVAstbar_Ca_LVAst', 'gamma_CaDynamics_E2', 'decay_CaDynamics_E2', 'gNaTs2_tbar_NaTs2_t', 'gSKv3_1bar_SKv3_1', 'gSK_E2bar_SK_E2', 'gCa_HVAbar_Ca_HVA', 'gCa_LVAstbar_Ca_LVAst', 'gamma_CaDynamics_E2', 'decay_CaDynamics_E2', 'gIhbar_Ih']\n"
     ]
    }
   ],
   "source": [
    "import json\n",
    "param_configs = json.load(open('config/parameters.json'))\n",
    "print([param_config['param_name'] for param_config in param_configs])"
   ]
  },
  {
   "cell_type": "markdown",
   "metadata": {},
   "source": [
    "The directory that contains this notebook has a module that will load all the parameters in BluePyOpt Parameter objects"
   ]
  },
  {
   "cell_type": "code",
   "execution_count": 7,
   "metadata": {},
   "outputs": [],
   "source": [
    "import l5pc_model\n",
    "parameters = l5pc_model.define_parameters()\n",
    "[(p.lower_bound,p.upper_bound) for p in parameters];\n",
    "pass"
   ]
  },
  {
   "cell_type": "code",
   "execution_count": 8,
   "metadata": {},
   "outputs": [],
   "source": [
    "#parameters = l5pc_model.define_parameters()\n"
   ]
  },
  {
   "cell_type": "code",
   "execution_count": 9,
   "metadata": {},
   "outputs": [],
   "source": [
    "#import pdb\n",
    "#pdb.set_trace()"
   ]
  },
  {
   "cell_type": "markdown",
   "metadata": {},
   "source": [
    "As you can see there are two types of parameters, parameters with a fixed value and parameters with bounds. The latter will be optimised by the algorithm."
   ]
  },
  {
   "cell_type": "markdown",
   "metadata": {},
   "source": [
    "### Mechanism"
   ]
  },
  {
   "cell_type": "markdown",
   "metadata": {},
   "source": [
    "We also need to add all the necessary mechanisms, like ion channels to the model. \n",
    "The configuration of the mechanisms is also stored in a json file, and can be loaded in a similar way."
   ]
  },
  {
   "cell_type": "code",
   "execution_count": 10,
   "metadata": {},
   "outputs": [],
   "source": [
    "mechanisms = l5pc_model.define_mechanisms()\n",
    "#print('\\n'.join('%s' % mech for mech in mechanisms))"
   ]
  },
  {
   "cell_type": "markdown",
   "metadata": {},
   "source": [
    "# Cell model"
   ]
  },
  {
   "cell_type": "markdown",
   "metadata": {},
   "source": [
    "With the morphology, mechanisms and parameters we can build the cell model"
   ]
  },
  {
   "cell_type": "code",
   "execution_count": 11,
   "metadata": {},
   "outputs": [],
   "source": [
    "l5pc_cell = ephys.models.CellModel('l5pc', morph=morphology, mechs=mechanisms, params=parameters)\n",
    "#print(l5pc_cell)"
   ]
  },
  {
   "cell_type": "markdown",
   "metadata": {},
   "source": [
    "For use in the cell evaluator later, we need to make a list of the name of the parameters we are going to optimise.\n",
    "These are the parameters that are not frozen."
   ]
  },
  {
   "cell_type": "code",
   "execution_count": 12,
   "metadata": {},
   "outputs": [],
   "source": [
    "param_names = [param.name for param in l5pc_cell.params.values() if not param.frozen]      "
   ]
  },
  {
   "cell_type": "markdown",
   "metadata": {},
   "source": [
    "## Protocols"
   ]
  },
  {
   "cell_type": "markdown",
   "metadata": {},
   "source": [
    "Now that we have a cell model, we can apply protocols to it. The protocols are also stored in a json file."
   ]
  },
  {
   "cell_type": "code",
   "execution_count": 13,
   "metadata": {},
   "outputs": [],
   "source": [
    "proto_configs = json.load(open('config/protocols.json'))\n",
    "#print(proto_configs)"
   ]
  },
  {
   "cell_type": "markdown",
   "metadata": {},
   "source": [
    "And they can be automatically loaded"
   ]
  },
  {
   "cell_type": "code",
   "execution_count": 14,
   "metadata": {},
   "outputs": [
    {
     "data": {
      "text/plain": [
       "0.01"
      ]
     },
     "execution_count": 14,
     "metadata": {},
     "output_type": "execute_result"
    }
   ],
   "source": [
    "import l5pc_evaluator\n",
    "fitness_protocols = l5pc_evaluator.define_protocols()\n",
    "#print('\\n'.join('%s' % protocol for protocol in fitness_protocols.values()))\n",
    "\n",
    "\n",
    "feature_configs = json.load(open('config/features.json'))\n",
    "#pp.pprint(feature_configs)\n",
    "\n",
    "#feature_configs.pop('bAP',None);\n",
    "#fitness_protocols.pop('bAP',None);\n",
    "\n",
    "10/1000"
   ]
  },
  {
   "cell_type": "code",
   "execution_count": 15,
   "metadata": {},
   "outputs": [],
   "source": [
    "import quantities as pq\n",
    "\n",
    "for k,v in fitness_protocols.items():\n",
    "    for i in fitness_protocols[k].stimuli:\n",
    "        params = {'amplitude':0,'duration':1000*pq.ms,'delay':100*pq.ms}\n",
    "\n",
    "\n",
    "        if k==str('Step1'):\n",
    "            params = {'amplitude':0,'duration':1000*pq.ms,'delay':100*pq.ms}\n",
    "\n",
    "            i.total_duration = float(params['delay'])+float(params['duration'])\n",
    "            i.step_delay = float(params['delay'])\n",
    "            i.step_duration = float(params['duration'])\n",
    "\n",
    "            i.step_amplitude = 0.090000 # nano to pico\n",
    "        elif k==str('Step2'):            \n",
    "            PASSIVE_DURATION = 500.0*pq.ms\n",
    "            PASSIVE_DELAY = 200.0*pq.ms\n",
    "            params = {'amplitude':0,'duration':PASSIVE_DURATION,'delay':PASSIVE_DELAY}\n",
    "            i.step_delay = float(params['delay'])\n",
    "            i.step_duration = float(params['duration'])\n",
    "\n",
    "            i.step_amplitude = -0.01 # nano to pico\n",
    "        "
   ]
  },
  {
   "cell_type": "code",
   "execution_count": 16,
   "metadata": {},
   "outputs": [],
   "source": [
    "#fitness_protocols.pop('bAP',None)"
   ]
  },
  {
   "cell_type": "code",
   "execution_count": 17,
   "metadata": {},
   "outputs": [
    {
     "data": {
      "text/plain": [
       "1100.0"
      ]
     },
     "execution_count": 17,
     "metadata": {},
     "output_type": "execute_result"
    }
   ],
   "source": [
    "fitness_protocols['Step1'].stimuli[0].total_duration\n",
    "\n"
   ]
  },
  {
   "cell_type": "code",
   "execution_count": 18,
   "metadata": {},
   "outputs": [],
   "source": [
    "#fitness_protocols['Step1'].stimuli.total_duration = "
   ]
  },
  {
   "cell_type": "markdown",
   "metadata": {},
   "source": [
    "## eFeatures"
   ]
  },
  {
   "cell_type": "markdown",
   "metadata": {},
   "source": [
    "For every protocol we need to define which eFeatures will be used as objectives of the optimisation algorithm."
   ]
  },
  {
   "cell_type": "code",
   "execution_count": null,
   "metadata": {},
   "outputs": [],
   "source": []
  },
  {
   "cell_type": "markdown",
   "metadata": {},
   "source": [
    "Hijack protocols by editing config dictionaries.\n",
    "\n",
    "Make static models from waveform only"
   ]
  },
  {
   "cell_type": "code",
   "execution_count": 19,
   "metadata": {},
   "outputs": [],
   "source": [
    "feature_configs;"
   ]
  },
  {
   "cell_type": "code",
   "execution_count": 20,
   "metadata": {},
   "outputs": [],
   "source": [
    "fitness_calculator = l5pc_evaluator.define_fitness_calculator(fitness_protocols)\n"
   ]
  },
  {
   "cell_type": "code",
   "execution_count": null,
   "metadata": {},
   "outputs": [],
   "source": []
  },
  {
   "cell_type": "markdown",
   "metadata": {
    "collapsed": true
   },
   "source": [
    "## Simulator"
   ]
  },
  {
   "cell_type": "markdown",
   "metadata": {},
   "source": [
    "We need to define which simulator we will use. In this case it will be Neuron, i.e. the NrnSimulator class"
   ]
  },
  {
   "cell_type": "code",
   "execution_count": 21,
   "metadata": {},
   "outputs": [],
   "source": [
    "sim = ephys.simulators.NrnSimulator()"
   ]
  },
  {
   "cell_type": "markdown",
   "metadata": {},
   "source": [
    "## Evaluator"
   ]
  },
  {
   "cell_type": "markdown",
   "metadata": {},
   "source": [
    "With all the components defined above we can build a cell evaluator"
   ]
  },
  {
   "cell_type": "code",
   "execution_count": 22,
   "metadata": {},
   "outputs": [],
   "source": [
    "evaluator = ephys.evaluators.CellEvaluator(                                          \n",
    "        cell_model=l5pc_cell,                                                       \n",
    "        param_names=param_names,                                                    \n",
    "        fitness_protocols=fitness_protocols,                                        \n",
    "        fitness_calculator=fitness_calculator,                                      \n",
    "        sim=sim)  "
   ]
  },
  {
   "cell_type": "markdown",
   "metadata": {},
   "source": [
    "This evaluator can be used to run the protocols. The original parameter values for the Markram et al. 2015 L5PC model are:"
   ]
  },
  {
   "cell_type": "code",
   "execution_count": 23,
   "metadata": {},
   "outputs": [],
   "source": [
    "release_params = {\n",
    "    'gNaTs2_tbar_NaTs2_t.apical': 0.026145,\n",
    "    'gSKv3_1bar_SKv3_1.apical': 0.004226,\n",
    "    'gImbar_Im.apical': 0.000143,\n",
    "    'gNaTa_tbar_NaTa_t.axonal': 3.137968,\n",
    "    'gK_Tstbar_K_Tst.axonal': 0.089259,\n",
    "    'gamma_CaDynamics_E2.axonal': 0.002910,\n",
    "    'gNap_Et2bar_Nap_Et2.axonal': 0.006827,\n",
    "    'gSK_E2bar_SK_E2.axonal': 0.007104,\n",
    "    'gCa_HVAbar_Ca_HVA.axonal': 0.000990,\n",
    "    'gK_Pstbar_K_Pst.axonal': 0.973538,\n",
    "    'gSKv3_1bar_SKv3_1.axonal': 1.021945,\n",
    "    'decay_CaDynamics_E2.axonal': 287.198731,\n",
    "    'gCa_LVAstbar_Ca_LVAst.axonal': 0.008752,\n",
    "    'gamma_CaDynamics_E2.somatic': 0.000609,\n",
    "    'gSKv3_1bar_SKv3_1.somatic': 0.303472,\n",
    "    'gSK_E2bar_SK_E2.somatic': 0.008407,\n",
    "    'gCa_HVAbar_Ca_HVA.somatic': 0.000994,\n",
    "    'gNaTs2_tbar_NaTs2_t.somatic': 0.983955,\n",
    "    'decay_CaDynamics_E2.somatic': 210.485284,\n",
    "    'gCa_LVAstbar_Ca_LVAst.somatic': 0.000333\n",
    "}\n"
   ]
  },
  {
   "cell_type": "code",
   "execution_count": 24,
   "metadata": {},
   "outputs": [],
   "source": [
    "temp = list(fitness_protocols.values())\n"
   ]
  },
  {
   "cell_type": "markdown",
   "metadata": {},
   "source": [
    "Running the responses is as easy as passing the protocols and parameters to the evaluator. (The line below will take some time to execute)"
   ]
  },
  {
   "cell_type": "code",
   "execution_count": 25,
   "metadata": {},
   "outputs": [],
   "source": [
    "release_responses = evaluator.run_protocols(protocols=[temp[-1],temp[-2]], param_values=release_params)"
   ]
  },
  {
   "cell_type": "code",
   "execution_count": 26,
   "metadata": {},
   "outputs": [
    {
     "data": {
      "text/plain": [
       "AnalogSignal with 1 channels of length 1131; units mV; datatype float64 \n",
       "sampling rate: 734.3019924337643 1/ms\n",
       "time: 0.0 s to 0.0015402382284861072 s"
      ]
     },
     "execution_count": 26,
     "metadata": {},
     "output_type": "execute_result"
    }
   ],
   "source": [
    "\n",
    "release_responses.keys()\n",
    "release_responses.pop('neo_Step1.soma.v',None)"
   ]
  },
  {
   "cell_type": "code",
   "execution_count": 27,
   "metadata": {},
   "outputs": [
    {
     "name": "stderr",
     "output_type": "stream",
     "text": [
      "/home/user/anaconda3/lib/python3.7/site-packages/ipykernel_launcher.py:7: UserWarning: Matplotlib is currently using module://ipykernel.pylab.backend_inline, which is a non-GUI backend, so cannot show the figure.\n",
      "  import sys\n"
     ]
    },
    {
     "data": {
      "image/png": "[encoded data removed]",
      "text/plain": [
       "<Figure size 720x720 with 2 Axes>"
      ]
     },
     "metadata": {
      "needs_background": "light"
     },
     "output_type": "display_data"
    }
   ],
   "source": [
    "\n",
    "def plot_responses(responses):\n",
    "    fig, axes = plt.subplots(2, figsize=(10,10))\n",
    "    for index, (resp_name, response) in enumerate(sorted(responses.items())):\n",
    "        axes[index].plot(response['time'], response['voltage'], label=resp_name)\n",
    "        axes[index].set_title(resp_name)\n",
    "    fig.tight_layout()\n",
    "    fig.show()\n",
    "\n",
    "plot_responses(release_responses)"
   ]
  },
  {
   "cell_type": "code",
   "execution_count": 28,
   "metadata": {},
   "outputs": [
    {
     "name": "stdout",
     "output_type": "stream",
     "text": [
      "{'amplitude': array(0.) * pA, 'delay': array(100.) * ms, 'duration': array(300.) * ms, 'dt': array(0.025) * ms, 'padding': array(200.) * ms}\n"
     ]
    }
   ],
   "source": [
    "import pickle\n",
    "from neo import AnalogSignal\n",
    "from neuronunit.models import StaticModel\n",
    "\n",
    "\n",
    "\n",
    "tests = pickle.load(open(\"processed_multicellular_constraints.p\",\"rb\"))\n",
    "l5pc_tests = tests['Neocortex pyramidal cell layer 5-6'].tests\n",
    "\n",
    "def score_model(release_responses_l,l5pc_tests,rheobase):\n",
    "    response = release_responses_l.get('Step1.soma.v')\n",
    "\n",
    "    temp_iter = list(np.arange(0,response['time'][len(response['time'])-1],response['time'][1]))\n",
    "    #print(temp_iter)\n",
    "    rectified = get_variable_step_analog_signal(response['time'][1],response['voltage'],response['time'])#,temp_iter)\n",
    "\n",
    "\n",
    "    active_vM = AnalogSignal(rectified,\n",
    "                                    units=pq.mV,\n",
    "                                    sampling_period=response['time'][1]*pq.ms)\n",
    "    plt.clf()\n",
    "    plt.plot(active_vM.times, active_vM)#, label=resp_name)\n",
    "\n",
    "\n",
    "    response = release_responses_l.get('Step2.soma.v')\n",
    "    temp_iter = list(np.arange(0,response['time'][len(response['time'])-1],response['time'][1]))\n",
    "\n",
    "    rectified = get_variable_step_analog_signal(response['time'][1],response['voltage'],response['time'])#,temp_iter)\n",
    "    passive_vM = AnalogSignal(rectified,\n",
    "                                    units=pq.mV,\n",
    "                                    sampling_period=response['time'][1]*pq.ms)\n",
    "    plt.clf()\n",
    "    plt.plot(passive_vM.times, passive_vM)#, label=resp_name)\n",
    "    \n",
    "\n",
    "    sm_active = StaticModel(vm=active_vM)\n",
    "    sm_active.vM = active_vM\n",
    "    sm_active.run_params = None\n",
    "    sm_active.run_params = {}\n",
    "\n",
    "    sm_passive = StaticModel(vm=passive_vM)\n",
    "    sm_passive.vM = passive_vM\n",
    "\n",
    "    sm_passive.run_params = None\n",
    "    sm_passive.run_params = {}\n",
    "    scores_active = {}\n",
    "    from sciunit.scores import ZScore\n",
    "    for t in l5pc_tests:\n",
    "        t.score_type = ZScore\n",
    "    for t in l5pc_tests[5::]:\n",
    "\n",
    "        score = t.judge(sm_active)\n",
    "        print(t.name,t.observation,t.prediction)\n",
    "        scores_active[t.name] = score\n",
    "\n",
    "    scores_passive = {}\n",
    "    for t in l5pc_tests[1:5]:    \n",
    "        score = t.judge(sm_passive)\n",
    "        print(t.name,t.observation,t.prediction)\n",
    "\n",
    "        scores_passive[t.name] = score\n",
    "    #scores_all = scores_active\n",
    "    #scores_all.extend(scores_passive)\n",
    "    \n",
    "    \n",
    "    l5pc_tests[0].prediction = {'value':rheobase*pq.pA}\n",
    "    l5pc_tests[0].score_type = ZScore\n",
    "    rh_score = l5pc_tests[0].compute_score(l5pc_tests[0].observation,l5pc_tests[0].prediction)\n",
    "    #print(l5pc_tests[0].observation,l5pc_tests[0].prediction)\n",
    "    #rh_score\n",
    "\n",
    "    scores = []\n",
    "    scores.append(rh_score)\n",
    "    scores.extend(list(scores_passive.values()))\n",
    "    scores.extend(list(scores_active.values()))\n",
    "    \n",
    "    #l5pc_tests[0].prediction = {'value':0.090000 *1000.0*pq.pA}\n",
    "    #l5pc_tests[0].score_type = ZScore\n",
    "    #rh_score = l5pc_tests[0].compute_score(l5pc_tests[0].observation,l5pc_tests[0].prediction)\n",
    "    #print(l5pc_tests[0].observation,l5pc_tests[0].prediction)\n",
    "    #rh_score\n",
    "    #scores_all.append(rh_score)\n",
    "    \n",
    "    #plt.clf()\n",
    "    \n",
    "    fig, axes = plt.subplots(3, figsize=(10,10))\n",
    "   \n",
    "    axes[0].plot(active_vM.times, active_vM, label='supra threshold injection')\n",
    "    axes[0].plot(passive_vM.times, passive_vM, label='sub threshold injection')\n",
    "    fig.tight_layout()\n",
    "    fig.show()\n",
    "    return scores\n",
    "\n",
    "\n",
    "#axes.set_title(resp_name)\n",
    "#plt.show()\n",
    "#plt.savefig('interpolated.png')"
   ]
  },
  {
   "cell_type": "code",
   "execution_count": 29,
   "metadata": {},
   "outputs": [
    {
     "name": "stderr",
     "output_type": "stream",
     "text": [
      "<ipython-input-1-d35edc268558>:53: NumbaWarning: \u001b[1m\n",
      "Compilation is falling back to object mode WITH looplifting enabled because Function \"get_variable_step_analog_signal\" failed type inference due to: \u001b[1m\u001b[1mnon-precise type pyobject\u001b[0m\n",
      "\u001b[0m\u001b[1m[1] During: typing of argument at <ipython-input-1-d35edc268558> (60)\u001b[0m\n",
      "\u001b[1m\n",
      "File \"<ipython-input-1-d35edc268558>\", line 60:\u001b[0m\n",
      "\u001b[1mdef get_variable_step_analog_signal(desired_fixedTimeStep,varied_Pots,varied_Times):#,iterator):\n",
      "    <source elided>\n",
      "    # Fixed dt potential\n",
      "\u001b[1m    fPots = []\n",
      "\u001b[0m    \u001b[1m^\u001b[0m\u001b[0m\n",
      "\u001b[0m\n",
      "  @jit\n",
      "/home/user/anaconda3/lib/python3.7/site-packages/numba/compiler.py:742: NumbaWarning: \u001b[1mFunction \"get_variable_step_analog_signal\" was compiled in object mode without forceobj=True.\n",
      "\u001b[1m\n",
      "File \"<ipython-input-1-d35edc268558>\", line 54:\u001b[0m\n",
      "\u001b[1m@jit\n",
      "\u001b[1mdef get_variable_step_analog_signal(desired_fixedTimeStep,varied_Pots,varied_Times):#,iterator):\n",
      "\u001b[0m\u001b[1m^\u001b[0m\u001b[0m\n",
      "\u001b[0m\n",
      "  self.func_ir.loc))\n",
      "/home/user/anaconda3/lib/python3.7/site-packages/numba/compiler.py:751: NumbaDeprecationWarning: \u001b[1m\n",
      "Fall-back from the nopython compilation path to the object mode compilation path has been detected, this is deprecated behaviour.\n",
      "\n",
      "For more information visit http://numba.pydata.org/numba-doc/latest/reference/deprecation.html#deprecation-of-object-mode-fall-back-behaviour-when-using-jit\n",
      "\u001b[1m\n",
      "File \"<ipython-input-1-d35edc268558>\", line 54:\u001b[0m\n",
      "\u001b[1m@jit\n",
      "\u001b[1mdef get_variable_step_analog_signal(desired_fixedTimeStep,varied_Pots,varied_Times):#,iterator):\n",
      "\u001b[0m\u001b[1m^\u001b[0m\u001b[0m\n",
      "\u001b[0m\n",
      "  warnings.warn(errors.NumbaDeprecationWarning(msg, self.func_ir.loc))\n",
      "<ipython-input-1-d35edc268558>:13: NumbaWarning: \u001b[1m\n",
      "Compilation is falling back to object mode WITH looplifting enabled because Function \"inner_core\" failed type inference due to: \u001b[1m\u001b[1mnon-precise type pyobject\u001b[0m\n",
      "\u001b[0m\u001b[1m[1] During: typing of argument at <ipython-input-1-d35edc268558> (15)\u001b[0m\n",
      "\u001b[1m\n",
      "File \"<ipython-input-1-d35edc268558>\", line 15:\u001b[0m\n",
      "\u001b[1mdef inner_core(fPots,vIndex,vTime,fTime,duration,vTimes,vPots,fDt):\n",
      "\u001b[1m    while fTime <= duration:\n",
      "\u001b[0m    \u001b[1m^\u001b[0m\u001b[0m\n",
      "\u001b[0m\n",
      "  @jit\n",
      "/home/user/anaconda3/lib/python3.7/site-packages/numba/compiler.py:742: NumbaWarning: \u001b[1mFunction \"inner_core\" was compiled in object mode without forceobj=True.\n",
      "\u001b[1m\n",
      "File \"<ipython-input-1-d35edc268558>\", line 14:\u001b[0m\n",
      "\u001b[1m@jit\n",
      "\u001b[1mdef inner_core(fPots,vIndex,vTime,fTime,duration,vTimes,vPots,fDt):\n",
      "\u001b[0m\u001b[1m^\u001b[0m\u001b[0m\n",
      "\u001b[0m\n",
      "  self.func_ir.loc))\n",
      "/home/user/anaconda3/lib/python3.7/site-packages/numba/compiler.py:751: NumbaDeprecationWarning: \u001b[1m\n",
      "Fall-back from the nopython compilation path to the object mode compilation path has been detected, this is deprecated behaviour.\n",
      "\n",
      "For more information visit http://numba.pydata.org/numba-doc/latest/reference/deprecation.html#deprecation-of-object-mode-fall-back-behaviour-when-using-jit\n",
      "\u001b[1m\n",
      "File \"<ipython-input-1-d35edc268558>\", line 14:\u001b[0m\n",
      "\u001b[1m@jit\n",
      "\u001b[1mdef inner_core(fPots,vIndex,vTime,fTime,duration,vTimes,vPots,fDt):\n",
      "\u001b[0m\u001b[1m^\u001b[0m\u001b[0m\n",
      "\u001b[0m\n",
      "  warnings.warn(errors.NumbaDeprecationWarning(msg, self.func_ir.loc))\n"
     ]
    },
    {
     "name": "stdout",
     "output_type": "stream",
     "text": [
      "InjectedCurrentAPWidthTest {'mean': array(1.20769388) * ms, 'std': array(0.53434592) * ms, 'n': 49} {'mean': array(5.99208506e-05) * s, 'std': array(0.) * s, 'n': 1}\n",
      "InjectedCurrentAPAmplitudeTest {'mean': array(80.43510204) * mV, 'std': array(12.74880304) * mV, 'n': 49} {'value': array(81.76377401) * mV, 'mean': array(81.76377401) * mV, 'std': array(0.) * mV, 'n': 1}\n",
      "InjectedCurrentAPThresholdTest {'mean': array(-42.73572327) * mV, 'std': array(8.04073233) * mV, 'n': 53} {'mean': array(-50.87516107) * mV, 'std': array(0.) * mV, 'n': 1}\n",
      "InputResistanceTest {'mean': array(120.67207364) * Mohm, 'std': array(77.63316083) * Mohm, 'n': 86} {'value': array(1.46155997e+08) * kg*m**2/(s**3*A**2)}\n",
      "TimeConstantTest {'mean': array(15.73424242) * ms, 'std': array(7.31162637) * ms, 'n': 33} {'value': array(0.00085249) * ms}\n",
      "CapacitanceTest {'mean': array(150.58416667) * pF, 'std': array(139.68388463) * pF, 'n': 12} {'value': array(5.83273916e-15) * s**4*A**2/(kg*m**2)}\n",
      "RestingPotentialTest {'mean': array(-68.24814346) * mV, 'std': array(6.53234788) * mV, 'n': 79} {'mean': array(-69.86563438) * mV, 'std': array(0.80756047) * mV}\n"
     ]
    },
    {
     "name": "stderr",
     "output_type": "stream",
     "text": [
      "/home/user/anaconda3/lib/python3.7/site-packages/ipykernel_launcher.py:91: UserWarning: Matplotlib is currently using agg, which is a non-GUI backend, so cannot show the figure.\n"
     ]
    },
    {
     "data": {
      "image/png": "[encoded data removed]",
      "text/plain": [
       "<Figure size 432x288 with 1 Axes>"
      ]
     },
     "metadata": {
      "needs_background": "light"
     },
     "output_type": "display_data"
    },
    {
     "data": {
      "image/png": "[encoded data removed]",
      "text/plain": [
       "<Figure size 720x720 with 3 Axes>"
      ]
     },
     "metadata": {
      "needs_background": "light"
     },
     "output_type": "display_data"
    }
   ],
   "source": [
    "scores = score_model(release_responses,l5pc_tests,0.090000)"
   ]
  },
  {
   "cell_type": "code",
   "execution_count": 30,
   "metadata": {},
   "outputs": [
    {
     "data": {
      "text/plain": [
       "[Z = -1.25,\n",
       " Z = 0.33,\n",
       " Z = -2.15,\n",
       " Z = -1.08,\n",
       " Z = -0.25,\n",
       " Z = -2.15,\n",
       " Z = 0.10,\n",
       " Z = -1.01]"
      ]
     },
     "execution_count": 30,
     "metadata": {},
     "output_type": "execute_result"
    }
   ],
   "source": [
    "scores"
   ]
  },
  {
   "cell_type": "code",
   "execution_count": null,
   "metadata": {},
   "outputs": [],
   "source": [
    "\n"
   ]
  },
  {
   "cell_type": "code",
   "execution_count": 31,
   "metadata": {},
   "outputs": [],
   "source": [
    "#print(scores_active)"
   ]
  },
  {
   "cell_type": "code",
   "execution_count": null,
   "metadata": {},
   "outputs": [],
   "source": [
    "\n",
    "\n"
   ]
  },
  {
   "cell_type": "code",
   "execution_count": 32,
   "metadata": {},
   "outputs": [],
   "source": [
    "#print(scores_passive)\n"
   ]
  },
  {
   "cell_type": "code",
   "execution_count": null,
   "metadata": {},
   "outputs": [],
   "source": [
    "\n"
   ]
  },
  {
   "cell_type": "code",
   "execution_count": 33,
   "metadata": {},
   "outputs": [
    {
     "data": {
      "text/html": [
       "<div>\n",
       "<style scoped>\n",
       "    .dataframe tbody tr th:only-of-type {\n",
       "        vertical-align: middle;\n",
       "    }\n",
       "\n",
       "    .dataframe tbody tr th {\n",
       "        vertical-align: top;\n",
       "    }\n",
       "\n",
       "    .dataframe thead th {\n",
       "        text-align: right;\n",
       "    }\n",
       "</style>\n",
       "<table border=\"1\" class=\"dataframe\">\n",
       "  <thead>\n",
       "    <tr style=\"text-align: right;\">\n",
       "      <th></th>\n",
       "      <th>observations</th>\n",
       "      <th>predictions</th>\n",
       "      <th>Z-Scores</th>\n",
       "    </tr>\n",
       "  </thead>\n",
       "  <tbody>\n",
       "    <tr>\n",
       "      <th>RheobaseTest</th>\n",
       "      <td>213.85 pA</td>\n",
       "      <td>0.09 pA</td>\n",
       "      <td>-1.254</td>\n",
       "    </tr>\n",
       "    <tr>\n",
       "      <th>InputResistanceTest</th>\n",
       "      <td>120.67 Mohm</td>\n",
       "      <td>146.1559970071775 megaohm</td>\n",
       "      <td>0.3283</td>\n",
       "    </tr>\n",
       "    <tr>\n",
       "      <th>TimeConstantTest</th>\n",
       "      <td>15.73 ms</td>\n",
       "      <td>0.0008524898065041904 ms</td>\n",
       "      <td>-2.152</td>\n",
       "    </tr>\n",
       "    <tr>\n",
       "      <th>CapacitanceTest</th>\n",
       "      <td>150.58 pF</td>\n",
       "      <td>0.005832739155153009 pF</td>\n",
       "      <td>-1.078</td>\n",
       "    </tr>\n",
       "    <tr>\n",
       "      <th>RestingPotentialTest</th>\n",
       "      <td>-68.25 mV</td>\n",
       "      <td>-69.86563438323489 mV</td>\n",
       "      <td>-0.2476</td>\n",
       "    </tr>\n",
       "    <tr>\n",
       "      <th>InjectedCurrentAPWidthTest</th>\n",
       "      <td>1.21 ms</td>\n",
       "      <td>0.059920850621917515 ms</td>\n",
       "      <td>-2.148</td>\n",
       "    </tr>\n",
       "    <tr>\n",
       "      <th>InjectedCurrentAPAmplitudeTest</th>\n",
       "      <td>80.44 mV</td>\n",
       "      <td>81.76377401241962 mV</td>\n",
       "      <td>0.1042</td>\n",
       "    </tr>\n",
       "    <tr>\n",
       "      <th>InjectedCurrentAPThresholdTest</th>\n",
       "      <td>-42.74 mV</td>\n",
       "      <td>-50.87516106871253 mV</td>\n",
       "      <td>-1.012</td>\n",
       "    </tr>\n",
       "  </tbody>\n",
       "</table>\n",
       "</div>"
      ],
      "text/plain": [
       "                               observations                predictions  \\\n",
       "RheobaseTest                      213.85 pA                    0.09 pA   \n",
       "InputResistanceTest             120.67 Mohm  146.1559970071775 megaohm   \n",
       "TimeConstantTest                   15.73 ms   0.0008524898065041904 ms   \n",
       "CapacitanceTest                   150.58 pF    0.005832739155153009 pF   \n",
       "RestingPotentialTest              -68.25 mV      -69.86563438323489 mV   \n",
       "InjectedCurrentAPWidthTest          1.21 ms    0.059920850621917515 ms   \n",
       "InjectedCurrentAPAmplitudeTest     80.44 mV       81.76377401241962 mV   \n",
       "InjectedCurrentAPThresholdTest    -42.74 mV      -50.87516106871253 mV   \n",
       "\n",
       "                               Z-Scores  \n",
       "RheobaseTest                     -1.254  \n",
       "InputResistanceTest              0.3283  \n",
       "TimeConstantTest                 -2.152  \n",
       "CapacitanceTest                  -1.078  \n",
       "RestingPotentialTest            -0.2476  \n",
       "InjectedCurrentAPWidthTest       -2.148  \n",
       "InjectedCurrentAPAmplitudeTest   0.1042  \n",
       "InjectedCurrentAPThresholdTest   -1.012  "
      ]
     },
     "execution_count": 33,
     "metadata": {},
     "output_type": "execute_result"
    }
   ],
   "source": [
    "import pandas as pd\n",
    "import quantities as qt\n",
    "def make_pretty1(tests,scores_):\n",
    "    #self.self_evaluate(tests=tests)\n",
    "    obs_preds = pd.DataFrame(columns=[\"observations\",\"predictions\"])\n",
    "    holding_obs = { t.name:np.round(t.observation['mean'],2) for t in tests if not hasattr(t,'allen')}\n",
    "    grab_keys = []\n",
    "    for t in tests: \n",
    "        if 'value' in t.prediction.keys() :\n",
    "            grab_keys.append('value')\n",
    "        else:\n",
    "            grab_keys.append('mean')\n",
    "    holding_preds = { t.name:t.prediction[k] for t,k in zip(tests,grab_keys) if not hasattr(t,'allen')}\n",
    "    ##\n",
    "    # This step only partially undoes quantities sins.\n",
    "    ##\n",
    "    qt.quantity.PREFERRED = [qt.mV, qt.pA, qt.MOhm, qt.ms, qt.pF]\n",
    "\n",
    "    for k,v in holding_preds.items():\n",
    "        if k in holding_obs.keys() and k in holding_preds:\n",
    "            if v is not None:\n",
    "                v.rescale_preferred()\n",
    "                v = v.simplified\n",
    "                #v = np.round(v,2)\n",
    "    for k,v in holding_preds.items():\n",
    "        if k in holding_obs.keys() and k in holding_preds: \n",
    "            if holding_preds[k] is not None:\n",
    "                units1 = holding_preds[k].rescale_preferred().units#v.units)\n",
    "                holding_preds[k] = holding_preds[k].rescale(units1)\n",
    "                #holding_preds[k] = np.round(holding_preds[k],2)\n",
    "\n",
    "    temp_obs = pd.DataFrame([holding_obs],index=['observations'])\n",
    "    temp_preds = pd.DataFrame([holding_preds],index=['predictions']) \n",
    "    # like a score array but nicer reporting of test name instead of test data type.\n",
    "    not_SA = {t.name: score.raw for t,score in zip(tests, scores_)}       \n",
    "    temp_scores = pd.DataFrame([not_SA],index=['Z-Scores'])\n",
    "    obs_preds = pd.concat([temp_obs,temp_preds,temp_scores])\n",
    "    obs_preds = obs_preds.T\n",
    "    return obs_preds\n",
    "tf = open('my_thesis_results_ncpc.tex','w')\n",
    "\n",
    "\n",
    "df = make_pretty1(l5pc_tests,scores)\n",
    "tf.write(df.to_latex())\n",
    "tf.close()\n",
    "#tests['Neocortex pyramidal cell layer 5-6']\n",
    "df\n",
    "#print(dir(rh_score))"
   ]
  },
  {
   "cell_type": "markdown",
   "metadata": {},
   "source": [
    "We can now plot all the responses"
   ]
  },
  {
   "cell_type": "code",
   "execution_count": 34,
   "metadata": {},
   "outputs": [
    {
     "name": "stdout",
     "output_type": "stream",
     "text": [
      "\\begin{tabular}{llll}\r\n",
      "\\toprule\r\n",
      "{} & observations &                predictions & Z-Scores \\\\\r\n",
      "\\midrule\r\n",
      "RheobaseTest                   &    213.85 pA &                    0.09 pA &   -1.254 \\\\\r\n",
      "InputResistanceTest            &  120.67 Mohm &  146.1559970071775 megaohm &   0.3283 \\\\\r\n",
      "TimeConstantTest               &     15.73 ms &   0.0008524898065041904 ms &   -2.152 \\\\\r\n",
      "CapacitanceTest                &    150.58 pF &    0.005832739155153009 pF &   -1.078 \\\\\r\n",
      "RestingPotentialTest           &    -68.25 mV &      -69.86563438323489 mV &  -0.2476 \\\\\r\n",
      "InjectedCurrentAPWidthTest     &      1.21 ms &    0.059920850621917515 ms &   -2.148 \\\\\r\n",
      "InjectedCurrentAPAmplitudeTest &     80.44 mV &       81.76377401241962 mV &   0.1042 \\\\\r\n",
      "InjectedCurrentAPThresholdTest &    -42.74 mV &      -50.87516106871253 mV &   -1.012 \\\\\r\n",
      "\\bottomrule\r\n",
      "\\end{tabular}\r\n"
     ]
    }
   ],
   "source": [
    "!cat my_thesis_results_ncpc.tex"
   ]
  },
  {
   "cell_type": "code",
   "execution_count": 35,
   "metadata": {},
   "outputs": [
    {
     "data": {
      "text/plain": [
       "[Z = -1.25,\n",
       " Z = 0.33,\n",
       " Z = -2.15,\n",
       " Z = -1.08,\n",
       " Z = -0.25,\n",
       " Z = -2.15,\n",
       " Z = 0.10,\n",
       " Z = -1.01]"
      ]
     },
     "execution_count": 35,
     "metadata": {},
     "output_type": "execute_result"
    }
   ],
   "source": [
    "scores"
   ]
  },
  {
   "cell_type": "code",
   "execution_count": 36,
   "metadata": {},
   "outputs": [],
   "source": [
    "class rh_fitness(object):\n",
    "    def calculate_rheobase(self,responses):\n",
    "        response = responses['Step1.soma.v']\n",
    "\n",
    "        \n",
    "        "
   ]
  },
  {
   "cell_type": "code",
   "execution_count": 37,
   "metadata": {},
   "outputs": [],
   "source": [
    "import quantities as pq\n",
    "\n",
    "for k,v in fitness_protocols.items():\n",
    "    for i in fitness_protocols[k].stimuli:\n",
    "        params = {'amplitude':None,'duration':1000*pq.ms,'delay':100*pq.ms}\n",
    "\n",
    "\n",
    "        if k==str('Step1'):\n",
    "            params = {'amplitude':None,'duration':1000*pq.ms,'delay':100*pq.ms}\n",
    "\n",
    "            i.total_duration = float(params['delay'])+float(params['duration'])\n",
    "            i.step_delay = float(params['delay'])\n",
    "            i.step_duration = float(params['duration'])\n",
    "\n",
    "            i.step_amplitude = 0.213850 # nano to pico\n",
    "            \n"
   ]
  },
  {
   "cell_type": "code",
   "execution_count": 38,
   "metadata": {},
   "outputs": [],
   "source": [
    "#import asciiplotlib as apl\n",
    "from neuronunit.models import StaticModel\n",
    "from elephant.spike_train_generation import threshold_detection\n",
    "\n",
    "class generic(object):\n",
    "    \n",
    "    def calculate_score(self,responses):\n",
    "        #print(responses.keys())\n",
    "        response = responses['Step1.soma.v']\n",
    "\n",
    "        temp_iter = list(np.arange(0,response['time'][len(response['time'])-1],response['time'][1]))\n",
    "        rectified = get_variable_step_analog_signal(response['time'][1],response['voltage'],response['time'])#,temp_iter)\n",
    "\n",
    "\n",
    "        active_vM = AnalogSignal(rectified,\n",
    "                                        units=pq.mV,\n",
    "                                        sampling_period=response['time'][1]*pq.ms)\n",
    "        \n",
    "        spike_train = threshold_detection(active_vM, threshold=0*pq.mV)\n",
    "        #print(spike_train)\n",
    "        '''\n",
    "        fig = apl.figure()\n",
    "        fig.plot([float(t)*1000.0 for t in active_vM.times],[float(v) for v in active_vM], width=100, height=20)\n",
    "        fig.show()\n",
    "        \n",
    "        '''\n",
    "        #print(np.std(active_vM))\n",
    "\n",
    "        response = responses.get('Step2.soma.v')\n",
    "        temp_iter = list(np.arange(0,response['time'][len(response['time'])-1],response['time'][1]))\n",
    "\n",
    "        rectified = get_variable_step_analog_signal(response['time'][1],response['voltage'],response['time'])#,temp_iter)\n",
    "        passive_vM = AnalogSignal(rectified,\n",
    "                                        units=pq.mV,\n",
    "                                        sampling_period=response['time'][1]*pq.ms)\n",
    "\n",
    "\n",
    "        #print(np.std(passive_vM))\n",
    "\n",
    "\n",
    "        sm_active = StaticModel(vm=active_vM)\n",
    "        sm_active.vM = active_vM\n",
    "        sm_active.run_params = None\n",
    "        sm_active.run_params = {}\n",
    "\n",
    "        sm_passive = StaticModel(vm=passive_vM)\n",
    "        sm_passive.vM = passive_vM\n",
    "\n",
    "        sm_passive.run_params = None\n",
    "        sm_passive.run_params = {}\n",
    "        scores_active = {}\n",
    "        from sciunit.scores import ZScore\n",
    "        for t in l5pc_tests:\n",
    "            t.score_type = ZScore\n",
    "        '''\n",
    "        for t in l5pc_tests[5::]:\n",
    "            try:\n",
    "                score = t.judge(sm_active)\n",
    "            except:\n",
    "                score = 10\n",
    "            #print(t.name,t.observation,t.prediction)\n",
    "            scores_active[t.name] = score\n",
    "        '''\n",
    "        scores_passive = {}\n",
    "        for t in l5pc_tests[1:5]:    \n",
    "            try:\n",
    "                score = t.judge(sm_passive)\n",
    "            except:\n",
    "                scores = 10.0\n",
    "            #print(t.name,t.observation,t.prediction)\n",
    "\n",
    "            scores_passive[t.name] = score\n",
    "        scores = []\n",
    "\n",
    "        if len(spike_train)==1:\n",
    "            l5pc_tests[0].prediction = {'value':213.85*pq.pA}\n",
    "            l5pc_tests[0].score_type = ZScore\n",
    "            rh_score = l5pc_tests[0].compute_score(l5pc_tests[0].observation,l5pc_tests[0].prediction)\n",
    "            rh_score = np.abs(float(score.raw))\n",
    "            #print(rh_score)\n",
    "        else:\n",
    "            \n",
    "            rh_score = 10.0\n",
    "            \n",
    "        #scores.append(rh_score)\n",
    "\n",
    "        #print(l5pc_tests[0].observation,l5pc_tests[0].prediction)\n",
    "        #rh_score\n",
    "\n",
    "        scores.extend(list(scores_passive.values()))\n",
    "        #scores.extend(list(scores_active.values()))\n",
    "\n",
    "\n",
    "        #print('gets here',np.sum([np.abs(float(score.raw)) for score in scores]))\n",
    "        fitness = [np.abs(float(score.raw)) for score in scores]\n",
    "        fitness.append(rh_score)\n",
    "        #print(fitness)\n",
    "        return fitness\n",
    "\n",
    "objectives = []\n",
    "gen = generic()    \n",
    "objective = ephys.objectives.SingletonObjective(\n",
    "    'lumped_tests',\n",
    "    gen)\n",
    "objectives.append(objective)\n",
    "#fitness_calculator = l5pc_evaluator.define_fitness_calculator(fitness_protocols)\n",
    "\n",
    "score_calc = ephys.objectivescalculators.ObjectivesCalculator(objectives) "
   ]
  },
  {
   "cell_type": "code",
   "execution_count": 39,
   "metadata": {},
   "outputs": [],
   "source": [
    "fitness_protocols.pop('bAP',None)\n",
    "fitness_protocols.pop('Step3',None)\n",
    "\n",
    "evaluator = ephys.evaluators.CellEvaluator(                                          \n",
    "        cell_model=l5pc_cell,                                                       \n",
    "        param_names=param_names,                                                    \n",
    "        fitness_protocols=fitness_protocols,                                        \n",
    "        fitness_calculator=score_calc,                                      \n",
    "        sim=sim)  "
   ]
  },
  {
   "cell_type": "markdown",
   "metadata": {},
   "source": [
    "Running an optimisation of the parameters now has become very easy. \n",
    "Of course running the L5PC optimisation will require quite some computing resources. \n",
    "\n",
    "To show a proof-of-concept, we will only run 2 generations, with 2 offspring individuals per generations.\n",
    "If you want to run all full optimisation, you should run for 100 generations with an offspring size of 100 individuals. "
   ]
  },
  {
   "cell_type": "code",
   "execution_count": null,
   "metadata": {},
   "outputs": [
    {
     "name": "stdout",
     "output_type": "stream",
     "text": [
      "[16.19, 1.044, 1.036, 0.05748, 0.05748]\n",
      "[5.777, 7.427, 2.608, 3.065, 3.065]\n",
      "[7.705, 4.478, 1.805, 2.88, 2.88]\n",
      "[33.07, 1.646, 1.159, 3.471, 10.0]\n",
      "[0.3317, 2.152, 1.078, 0.3373, 0.3373]\n",
      "[0.4662, 2.152, 1.078, 0.3422, 0.3422]\n",
      "[3.326, 16.51, 8.18, 0.3458, 0.3458]\n",
      "[8.637, 13.76, 2.592, 1.431, 1.431]\n",
      "[1.128, 1.128, 1.128, 1.135, 1.135]\n"
     ]
    },
    {
     "name": "stderr",
     "output_type": "stream",
     "text": [
      "gen\tnevals\tavg    \tstd    \tmin   \tmax   \n",
      "1  \t10    \t19.2568\t13.2547\t4.2363\t49.346\n"
     ]
    },
    {
     "name": "stdout",
     "output_type": "stream",
     "text": [
      "[0.4144, 0.4144, 0.4144, 5.537, 5.537]\n"
     ]
    },
    {
     "data": {
      "application/vnd.jupyter.widget-view+json": {
       "model_id": "27b13b475f814c16831802e6c57f95f3",
       "version_major": 2,
       "version_minor": 0
      },
      "text/plain": [
       "HBox(children=(FloatProgress(value=0.0, max=20.0), HTML(value='')))"
      ]
     },
     "metadata": {},
     "output_type": "display_data"
    },
    {
     "name": "stdout",
     "output_type": "stream",
     "text": [
      "[1.658, 0.8555, 9.477, 0.4095, 0.4095]\n",
      "[8.688, 4.731, 1.729, 2.873, 2.873]\n",
      "[0.3663, 2.152, 1.078, 0.2784, 0.2784]\n",
      "[1.3, 2.152, 1.078, 1.022, 1.022]\n",
      "[1.418, 2.152, 1.076, 1.334, 1.334]\n"
     ]
    },
    {
     "name": "stderr",
     "output_type": "stream",
     "text": [
      "2  \t6     \t13.8291\t11.4726\t4.1531\t49.346\n"
     ]
    },
    {
     "name": "stdout",
     "output_type": "stream",
     "text": [
      "[0.3186, 2.152, 1.078, 0.3415, 0.3415]\n",
      "[0.3192, 2.152, 1.078, 0.2962, 0.2962]\n",
      "[0.3663, 2.152, 1.078, 0.2784, 0.2784]\n",
      "[0.419, 2.152, 1.078, 0.3203, 0.3203]\n",
      "[0.4496, 2.152, 1.078, 0.2575, 0.2575]\n",
      "[8.344, 14.3, 2.712, 1.546, 1.546]\n"
     ]
    },
    {
     "name": "stderr",
     "output_type": "stream",
     "text": [
      "3  \t6     \t5.97594\t5.34073\t4.1416\t28.448\n"
     ]
    },
    {
     "name": "stdout",
     "output_type": "stream",
     "text": [
      "[0.3081, 2.152, 1.078, 0.3221, 0.3221]\n",
      "[0.2837, 2.152, 1.078, 0.3025, 0.3025]\n",
      "[0.3663, 2.152, 1.078, 0.2784, 0.2784]\n",
      "[0.45, 2.152, 1.078, 0.2444, 0.2444]\n",
      "[0.3513, 2.152, 1.078, 0.2843, 0.2843]\n",
      "[0.2884, 2.152, 1.078, 0.2904, 0.2904]\n",
      "[0.4031, 11.38, 3.583, 0.277, 0.277]\n"
     ]
    },
    {
     "name": "stderr",
     "output_type": "stream",
     "text": [
      "4  \t7     \t4.70979\t2.50677\t4.0992\t15.9201\n"
     ]
    },
    {
     "name": "stdout",
     "output_type": "stream",
     "text": [
      "[0.3184, 2.152, 1.078, 0.2954, 0.2954]\n",
      "[0.3192, 2.152, 1.078, 0.2962, 0.2962]\n",
      "[0.3192, 2.152, 1.078, 0.2962, 0.2962]\n",
      "[0.3706, 2.152, 1.078, 0.2809, 0.2809]\n"
     ]
    },
    {
     "name": "stderr",
     "output_type": "stream",
     "text": [
      "5  \t4     \t4.13733\t0.0151703\t4.0992\t4.1624 \n"
     ]
    },
    {
     "name": "stdout",
     "output_type": "stream",
     "text": [
      "[0.3023, 2.152, 1.078, 0.2885, 0.2885]\n",
      "[0.3192, 2.152, 1.078, 0.2962, 0.2962]\n"
     ]
    },
    {
     "name": "stderr",
     "output_type": "stream",
     "text": [
      "6  \t2     \t3.99488\t0.589593 \t1.3596\t4.1416 \n"
     ]
    },
    {
     "name": "stdout",
     "output_type": "stream",
     "text": [
      "[0.2418, 0.2418, 0.2418, 0.3171, 0.3171]\n",
      "[0.3102, 2.152, 1.078, 0.2949, 0.2949]\n",
      "[0.2769, 2.152, 1.078, 0.3066, 0.3066]\n"
     ]
    },
    {
     "name": "stderr",
     "output_type": "stream",
     "text": [
      "7  \t3     \t3.32899\t1.24566  \t1.3596\t4.1416 \n"
     ]
    },
    {
     "name": "stdout",
     "output_type": "stream",
     "text": [
      "[0.3178, 2.152, 1.078, 0.2966, 0.2966]\n",
      "[0.289, 2.152, 1.078, 0.2933, 0.2933]\n",
      "[0.2511, 2.152, 1.078, 0.3139, 0.3139]\n",
      "[0.2371, 2.152, 1.078, 0.3165, 0.3165]\n",
      "[0.2884, 2.152, 1.078, 0.2904, 0.2904]\n",
      "[0.2418, 0.2418, 0.2418, 0.3171, 0.3171]\n",
      "[0.2418, 0.2418, 0.2418, 0.3171, 0.3171]\n",
      "[0.2611, 2.152, 1.078, 0.2995, 0.2995]\n"
     ]
    },
    {
     "name": "stderr",
     "output_type": "stream",
     "text": [
      "8  \t8     \t2.79462\t1.36825  \t1.3596\t4.1089 \n"
     ]
    },
    {
     "name": "stdout",
     "output_type": "stream",
     "text": [
      "[0.2652, 2.152, 1.078, 0.298, 0.298]\n",
      "[0.5343, 2.152, 1.078, 0.2959, 0.2959]\n",
      "[0.2418, 0.2418, 0.2418, 0.3171, 0.3171]\n",
      "[0.2418, 0.2418, 0.2418, 0.3171, 0.3171]\n",
      "[0.2418, 0.2418, 0.2418, 0.3171, 0.3171]\n",
      "[0.2418, 0.2418, 0.2418, 0.3171, 0.3171]\n",
      "[0.2418, 0.2418, 0.2418, 0.3171, 0.3171]\n"
     ]
    },
    {
     "name": "stderr",
     "output_type": "stream",
     "text": [
      "9  \t7     \t1.50229\t0.638131 \t1.3596\t4.3561 \n"
     ]
    },
    {
     "name": "stdout",
     "output_type": "stream",
     "text": [
      "[0.2418, 0.2418, 0.2418, 0.3171, 0.3171]\n",
      "[0.2819, 2.152, 1.078, 0.2804, 0.2804]\n",
      "[0.2418, 0.2418, 0.2418, 0.3171, 0.3171]\n",
      "[0.2418, 0.2418, 0.2418, 0.3171, 0.3171]\n",
      "[0.2418, 0.2418, 0.2418, 0.3171, 0.3171]\n"
     ]
    },
    {
     "name": "stderr",
     "output_type": "stream",
     "text": [
      "10 \t5     \t1.4888 \t0.577779 \t1.3596\t4.0727 \n"
     ]
    },
    {
     "name": "stdout",
     "output_type": "stream",
     "text": [
      "[0.2418, 0.2418, 0.2418, 0.3171, 0.3171]\n",
      "[0.2418, 0.2418, 0.2418, 0.3171, 0.3171]\n",
      "[0.2418, 0.2418, 0.2418, 0.3171, 0.3171]\n",
      "[0.2418, 0.2418, 0.2418, 0.3171, 0.3171]\n"
     ]
    }
   ],
   "source": [
    "import dask\n",
    "def dask_map_function(eval_,invalid_ind):\n",
    "    results = []\n",
    "    for x in invalid_ind:\n",
    "        y = dask.delayed(eval_)(x)\n",
    "        results.append(y)\n",
    "    fitnesses = dask.compute(*results)\n",
    "    return fitnesses\n",
    "\n",
    "opt = bpopt.optimisations.DEAPOptimisation(                                     \n",
    "    evaluator=evaluator,\n",
    "    map_function=dask_map_function,\n",
    "    offspring_size=10,\n",
    "    mutpb=0.1,cxpb=0.4) \n",
    "final_pop, halloffame, log, hist = opt.run(max_ngen=20)#, cp_filename='checkpoints/checkpoint.pkl')"
   ]
  },
  {
   "cell_type": "markdown",
   "metadata": {},
   "source": [
    "The first individual in the hall of fame will contain the best solution found."
   ]
  },
  {
   "cell_type": "code",
   "execution_count": null,
   "metadata": {},
   "outputs": [],
   "source": [
    "print(halloffame[0])"
   ]
  },
  {
   "cell_type": "code",
   "execution_count": null,
   "metadata": {},
   "outputs": [],
   "source": []
  },
  {
   "cell_type": "markdown",
   "metadata": {},
   "source": [
    "These are the raw parameter values. \n",
    "The evaluator object can convert this in a dictionary, so that we can see the parameter names corresponding to these values."
   ]
  },
  {
   "cell_type": "code",
   "execution_count": null,
   "metadata": {},
   "outputs": [],
   "source": [
    "best_params = evaluator.param_dict(halloffame[0])\n",
    "print(pp.pprint(best_params))"
   ]
  },
  {
   "cell_type": "markdown",
   "metadata": {},
   "source": [
    "Then we can run the fitness protocols on the model with these parameter values"
   ]
  },
  {
   "cell_type": "code",
   "execution_count": null,
   "metadata": {},
   "outputs": [],
   "source": [
    "best_responses = evaluator.run_protocols(protocols=fitness_protocols.values(), param_values=best_params)"
   ]
  },
  {
   "cell_type": "markdown",
   "metadata": {},
   "source": [
    "And then we can also plot these responses. \n",
    "\n",
    "When you ran the above optimisation with only 2 individuals and 2 generations, this 'best' model will of course be very low quality."
   ]
  },
  {
   "cell_type": "code",
   "execution_count": null,
   "metadata": {},
   "outputs": [],
   "source": [
    "\n",
    "def plot_responses(responses):\n",
    "    fig, axes = plt.subplots(3, figsize=(10,10))\n",
    "    for index, (resp_name, response) in enumerate(sorted(responses.items())):\n",
    "        try:\n",
    "            axes[index].plot(response['time'], response['voltage'], label=resp_name)\n",
    "            axes[index].set_title(resp_name)\n",
    "        except:\n",
    "            pass\n",
    "    fig.tight_layout()\n",
    "    fig.show()\n",
    "\n",
    "#plot_responses(release_responses)\n",
    "plot_responses(best_responses)\n"
   ]
  },
  {
   "cell_type": "code",
   "execution_count": null,
   "metadata": {},
   "outputs": [],
   "source": [
    "rheobase_dict={'value':213.85*pq.pA}\n",
    "\n",
    "tests = pickle.load(open(\"processed_multicellular_constraints.p\",\"rb\"))\n",
    "l5pc_tests = tests['Neocortex pyramidal cell layer 5-6'].tests\n",
    "scores = score_model(best_responses,l5pc_tests,float(rheobase_dict['value']))"
   ]
  },
  {
   "cell_type": "code",
   "execution_count": null,
   "metadata": {},
   "outputs": [],
   "source": [
    "scores"
   ]
  },
  {
   "cell_type": "code",
   "execution_count": null,
   "metadata": {},
   "outputs": [],
   "source": [
    "df = make_pretty1(l5pc_tests,scores)\n"
   ]
  },
  {
   "cell_type": "code",
   "execution_count": null,
   "metadata": {},
   "outputs": [],
   "source": []
  },
  {
   "cell_type": "code",
   "execution_count": null,
   "metadata": {},
   "outputs": [],
   "source": []
  }
 ],
 "metadata": {
  "kernelspec": {
   "display_name": "Python 3",
   "language": "python",
   "name": "python3"
  },
  "language_info": {
   "codemirror_mode": {
    "name": "ipython",
    "version": 3
   },
   "file_extension": ".py",
   "mimetype": "text/x-python",
   "name": "python",
   "nbconvert_exporter": "python",
   "pygments_lexer": "ipython3",
   "version": "3.7.4"
  }
 },
 "nbformat": 4,
 "nbformat_minor": 1
}
